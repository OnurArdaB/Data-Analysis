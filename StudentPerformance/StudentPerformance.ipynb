{
  "nbformat": 4,
  "nbformat_minor": 0,
  "metadata": {
    "colab": {
      "name": "StudentPerformance.ipynb",
      "provenance": []
    },
    "kernelspec": {
      "name": "python3",
      "display_name": "Python 3"
    }
  },
  "cells": [
    {
      "cell_type": "markdown",
      "metadata": {
        "id": "vXabGZKs4M8U",
        "colab_type": "text"
      },
      "source": [
        "#Student Performance Analysis"
      ]
    },
    {
      "cell_type": "code",
      "metadata": {
        "id": "di_PEBjRrPg9",
        "colab_type": "code",
        "colab": {
          "base_uri": "https://localhost:8080/",
          "height": 35
        },
        "outputId": "02502695-8a4f-48f3-ec46-2ff7ad2a6cba"
      },
      "source": [
        "from google.colab import drive\n",
        "drive.mount(\"gdrive\")"
      ],
      "execution_count": 691,
      "outputs": [
        {
          "output_type": "stream",
          "text": [
            "Drive already mounted at gdrive; to attempt to forcibly remount, call drive.mount(\"gdrive\", force_remount=True).\n"
          ],
          "name": "stdout"
        }
      ]
    },
    {
      "cell_type": "markdown",
      "metadata": {
        "id": "3082ERJD4SWe",
        "colab_type": "text"
      },
      "source": [
        "## Import the necessary libraries"
      ]
    },
    {
      "cell_type": "code",
      "metadata": {
        "id": "AsoulPuvrYzY",
        "colab_type": "code",
        "colab": {}
      },
      "source": [
        "import numpy as np\n",
        "import pandas as pd\n",
        "import matplotlib.pyplot as plt\n",
        "import seaborn as sns\n",
        "\n",
        "#ML Libraries and utils\n",
        "from sklearn.metrics import r2_score,mean_absolute_error,mean_squared_error\n",
        "from sklearn.linear_model import LinearRegression,Lasso,Ridge,ElasticNet\n",
        "from sklearn.model_selection import train_test_split\n",
        "from sklearn.preprocessing import MinMaxScaler,StandardScaler\n",
        "import tensorflow as tf"
      ],
      "execution_count": 692,
      "outputs": []
    },
    {
      "cell_type": "markdown",
      "metadata": {
        "id": "Oqrgr27-4Wts",
        "colab_type": "text"
      },
      "source": [
        "## Read the datasets."
      ]
    },
    {
      "cell_type": "code",
      "metadata": {
        "id": "YgNPlTXpsbYd",
        "colab_type": "code",
        "colab": {}
      },
      "source": [
        "df_mat = pd.read_csv(\"/content/gdrive/My Drive/DataAnalysis/StudentPerformance/student-mat.csv\",delimiter=\";\")\n",
        "df_por = pd.read_csv(\"/content/gdrive/My Drive/DataAnalysis/StudentPerformance/student-por.csv\",delimiter=\";\")"
      ],
      "execution_count": 693,
      "outputs": []
    },
    {
      "cell_type": "code",
      "metadata": {
        "id": "q7aLTNyKsnor",
        "colab_type": "code",
        "colab": {
          "base_uri": "https://localhost:8080/",
          "height": 222
        },
        "outputId": "7cdfa685-e186-48a5-a17b-2471340e8a0a"
      },
      "source": [
        "df_mat.head()"
      ],
      "execution_count": 694,
      "outputs": [
        {
          "output_type": "execute_result",
          "data": {
            "text/html": [
              "<div>\n",
              "<style scoped>\n",
              "    .dataframe tbody tr th:only-of-type {\n",
              "        vertical-align: middle;\n",
              "    }\n",
              "\n",
              "    .dataframe tbody tr th {\n",
              "        vertical-align: top;\n",
              "    }\n",
              "\n",
              "    .dataframe thead th {\n",
              "        text-align: right;\n",
              "    }\n",
              "</style>\n",
              "<table border=\"1\" class=\"dataframe\">\n",
              "  <thead>\n",
              "    <tr style=\"text-align: right;\">\n",
              "      <th></th>\n",
              "      <th>school</th>\n",
              "      <th>sex</th>\n",
              "      <th>age</th>\n",
              "      <th>address</th>\n",
              "      <th>famsize</th>\n",
              "      <th>Pstatus</th>\n",
              "      <th>Medu</th>\n",
              "      <th>Fedu</th>\n",
              "      <th>Mjob</th>\n",
              "      <th>Fjob</th>\n",
              "      <th>reason</th>\n",
              "      <th>guardian</th>\n",
              "      <th>traveltime</th>\n",
              "      <th>studytime</th>\n",
              "      <th>failures</th>\n",
              "      <th>schoolsup</th>\n",
              "      <th>famsup</th>\n",
              "      <th>paid</th>\n",
              "      <th>activities</th>\n",
              "      <th>nursery</th>\n",
              "      <th>higher</th>\n",
              "      <th>internet</th>\n",
              "      <th>romantic</th>\n",
              "      <th>famrel</th>\n",
              "      <th>freetime</th>\n",
              "      <th>goout</th>\n",
              "      <th>Dalc</th>\n",
              "      <th>Walc</th>\n",
              "      <th>health</th>\n",
              "      <th>absences</th>\n",
              "      <th>G1</th>\n",
              "      <th>G2</th>\n",
              "      <th>G3</th>\n",
              "    </tr>\n",
              "  </thead>\n",
              "  <tbody>\n",
              "    <tr>\n",
              "      <th>0</th>\n",
              "      <td>GP</td>\n",
              "      <td>F</td>\n",
              "      <td>18</td>\n",
              "      <td>U</td>\n",
              "      <td>GT3</td>\n",
              "      <td>A</td>\n",
              "      <td>4</td>\n",
              "      <td>4</td>\n",
              "      <td>at_home</td>\n",
              "      <td>teacher</td>\n",
              "      <td>course</td>\n",
              "      <td>mother</td>\n",
              "      <td>2</td>\n",
              "      <td>2</td>\n",
              "      <td>0</td>\n",
              "      <td>yes</td>\n",
              "      <td>no</td>\n",
              "      <td>no</td>\n",
              "      <td>no</td>\n",
              "      <td>yes</td>\n",
              "      <td>yes</td>\n",
              "      <td>no</td>\n",
              "      <td>no</td>\n",
              "      <td>4</td>\n",
              "      <td>3</td>\n",
              "      <td>4</td>\n",
              "      <td>1</td>\n",
              "      <td>1</td>\n",
              "      <td>3</td>\n",
              "      <td>6</td>\n",
              "      <td>5</td>\n",
              "      <td>6</td>\n",
              "      <td>6</td>\n",
              "    </tr>\n",
              "    <tr>\n",
              "      <th>1</th>\n",
              "      <td>GP</td>\n",
              "      <td>F</td>\n",
              "      <td>17</td>\n",
              "      <td>U</td>\n",
              "      <td>GT3</td>\n",
              "      <td>T</td>\n",
              "      <td>1</td>\n",
              "      <td>1</td>\n",
              "      <td>at_home</td>\n",
              "      <td>other</td>\n",
              "      <td>course</td>\n",
              "      <td>father</td>\n",
              "      <td>1</td>\n",
              "      <td>2</td>\n",
              "      <td>0</td>\n",
              "      <td>no</td>\n",
              "      <td>yes</td>\n",
              "      <td>no</td>\n",
              "      <td>no</td>\n",
              "      <td>no</td>\n",
              "      <td>yes</td>\n",
              "      <td>yes</td>\n",
              "      <td>no</td>\n",
              "      <td>5</td>\n",
              "      <td>3</td>\n",
              "      <td>3</td>\n",
              "      <td>1</td>\n",
              "      <td>1</td>\n",
              "      <td>3</td>\n",
              "      <td>4</td>\n",
              "      <td>5</td>\n",
              "      <td>5</td>\n",
              "      <td>6</td>\n",
              "    </tr>\n",
              "    <tr>\n",
              "      <th>2</th>\n",
              "      <td>GP</td>\n",
              "      <td>F</td>\n",
              "      <td>15</td>\n",
              "      <td>U</td>\n",
              "      <td>LE3</td>\n",
              "      <td>T</td>\n",
              "      <td>1</td>\n",
              "      <td>1</td>\n",
              "      <td>at_home</td>\n",
              "      <td>other</td>\n",
              "      <td>other</td>\n",
              "      <td>mother</td>\n",
              "      <td>1</td>\n",
              "      <td>2</td>\n",
              "      <td>3</td>\n",
              "      <td>yes</td>\n",
              "      <td>no</td>\n",
              "      <td>yes</td>\n",
              "      <td>no</td>\n",
              "      <td>yes</td>\n",
              "      <td>yes</td>\n",
              "      <td>yes</td>\n",
              "      <td>no</td>\n",
              "      <td>4</td>\n",
              "      <td>3</td>\n",
              "      <td>2</td>\n",
              "      <td>2</td>\n",
              "      <td>3</td>\n",
              "      <td>3</td>\n",
              "      <td>10</td>\n",
              "      <td>7</td>\n",
              "      <td>8</td>\n",
              "      <td>10</td>\n",
              "    </tr>\n",
              "    <tr>\n",
              "      <th>3</th>\n",
              "      <td>GP</td>\n",
              "      <td>F</td>\n",
              "      <td>15</td>\n",
              "      <td>U</td>\n",
              "      <td>GT3</td>\n",
              "      <td>T</td>\n",
              "      <td>4</td>\n",
              "      <td>2</td>\n",
              "      <td>health</td>\n",
              "      <td>services</td>\n",
              "      <td>home</td>\n",
              "      <td>mother</td>\n",
              "      <td>1</td>\n",
              "      <td>3</td>\n",
              "      <td>0</td>\n",
              "      <td>no</td>\n",
              "      <td>yes</td>\n",
              "      <td>yes</td>\n",
              "      <td>yes</td>\n",
              "      <td>yes</td>\n",
              "      <td>yes</td>\n",
              "      <td>yes</td>\n",
              "      <td>yes</td>\n",
              "      <td>3</td>\n",
              "      <td>2</td>\n",
              "      <td>2</td>\n",
              "      <td>1</td>\n",
              "      <td>1</td>\n",
              "      <td>5</td>\n",
              "      <td>2</td>\n",
              "      <td>15</td>\n",
              "      <td>14</td>\n",
              "      <td>15</td>\n",
              "    </tr>\n",
              "    <tr>\n",
              "      <th>4</th>\n",
              "      <td>GP</td>\n",
              "      <td>F</td>\n",
              "      <td>16</td>\n",
              "      <td>U</td>\n",
              "      <td>GT3</td>\n",
              "      <td>T</td>\n",
              "      <td>3</td>\n",
              "      <td>3</td>\n",
              "      <td>other</td>\n",
              "      <td>other</td>\n",
              "      <td>home</td>\n",
              "      <td>father</td>\n",
              "      <td>1</td>\n",
              "      <td>2</td>\n",
              "      <td>0</td>\n",
              "      <td>no</td>\n",
              "      <td>yes</td>\n",
              "      <td>yes</td>\n",
              "      <td>no</td>\n",
              "      <td>yes</td>\n",
              "      <td>yes</td>\n",
              "      <td>no</td>\n",
              "      <td>no</td>\n",
              "      <td>4</td>\n",
              "      <td>3</td>\n",
              "      <td>2</td>\n",
              "      <td>1</td>\n",
              "      <td>2</td>\n",
              "      <td>5</td>\n",
              "      <td>4</td>\n",
              "      <td>6</td>\n",
              "      <td>10</td>\n",
              "      <td>10</td>\n",
              "    </tr>\n",
              "  </tbody>\n",
              "</table>\n",
              "</div>"
            ],
            "text/plain": [
              "  school sex  age address famsize Pstatus  ...  Walc  health absences  G1  G2  G3\n",
              "0     GP   F   18       U     GT3       A  ...     1       3        6   5   6   6\n",
              "1     GP   F   17       U     GT3       T  ...     1       3        4   5   5   6\n",
              "2     GP   F   15       U     LE3       T  ...     3       3       10   7   8  10\n",
              "3     GP   F   15       U     GT3       T  ...     1       5        2  15  14  15\n",
              "4     GP   F   16       U     GT3       T  ...     2       5        4   6  10  10\n",
              "\n",
              "[5 rows x 33 columns]"
            ]
          },
          "metadata": {
            "tags": []
          },
          "execution_count": 694
        }
      ]
    },
    {
      "cell_type": "code",
      "metadata": {
        "id": "EU8J3cqTsz49",
        "colab_type": "code",
        "colab": {
          "base_uri": "https://localhost:8080/",
          "height": 222
        },
        "outputId": "6f402905-1aef-4ae9-927a-776e57313451"
      },
      "source": [
        "df_por.head()"
      ],
      "execution_count": 695,
      "outputs": [
        {
          "output_type": "execute_result",
          "data": {
            "text/html": [
              "<div>\n",
              "<style scoped>\n",
              "    .dataframe tbody tr th:only-of-type {\n",
              "        vertical-align: middle;\n",
              "    }\n",
              "\n",
              "    .dataframe tbody tr th {\n",
              "        vertical-align: top;\n",
              "    }\n",
              "\n",
              "    .dataframe thead th {\n",
              "        text-align: right;\n",
              "    }\n",
              "</style>\n",
              "<table border=\"1\" class=\"dataframe\">\n",
              "  <thead>\n",
              "    <tr style=\"text-align: right;\">\n",
              "      <th></th>\n",
              "      <th>school</th>\n",
              "      <th>sex</th>\n",
              "      <th>age</th>\n",
              "      <th>address</th>\n",
              "      <th>famsize</th>\n",
              "      <th>Pstatus</th>\n",
              "      <th>Medu</th>\n",
              "      <th>Fedu</th>\n",
              "      <th>Mjob</th>\n",
              "      <th>Fjob</th>\n",
              "      <th>reason</th>\n",
              "      <th>guardian</th>\n",
              "      <th>traveltime</th>\n",
              "      <th>studytime</th>\n",
              "      <th>failures</th>\n",
              "      <th>schoolsup</th>\n",
              "      <th>famsup</th>\n",
              "      <th>paid</th>\n",
              "      <th>activities</th>\n",
              "      <th>nursery</th>\n",
              "      <th>higher</th>\n",
              "      <th>internet</th>\n",
              "      <th>romantic</th>\n",
              "      <th>famrel</th>\n",
              "      <th>freetime</th>\n",
              "      <th>goout</th>\n",
              "      <th>Dalc</th>\n",
              "      <th>Walc</th>\n",
              "      <th>health</th>\n",
              "      <th>absences</th>\n",
              "      <th>G1</th>\n",
              "      <th>G2</th>\n",
              "      <th>G3</th>\n",
              "    </tr>\n",
              "  </thead>\n",
              "  <tbody>\n",
              "    <tr>\n",
              "      <th>0</th>\n",
              "      <td>GP</td>\n",
              "      <td>F</td>\n",
              "      <td>18</td>\n",
              "      <td>U</td>\n",
              "      <td>GT3</td>\n",
              "      <td>A</td>\n",
              "      <td>4</td>\n",
              "      <td>4</td>\n",
              "      <td>at_home</td>\n",
              "      <td>teacher</td>\n",
              "      <td>course</td>\n",
              "      <td>mother</td>\n",
              "      <td>2</td>\n",
              "      <td>2</td>\n",
              "      <td>0</td>\n",
              "      <td>yes</td>\n",
              "      <td>no</td>\n",
              "      <td>no</td>\n",
              "      <td>no</td>\n",
              "      <td>yes</td>\n",
              "      <td>yes</td>\n",
              "      <td>no</td>\n",
              "      <td>no</td>\n",
              "      <td>4</td>\n",
              "      <td>3</td>\n",
              "      <td>4</td>\n",
              "      <td>1</td>\n",
              "      <td>1</td>\n",
              "      <td>3</td>\n",
              "      <td>4</td>\n",
              "      <td>0</td>\n",
              "      <td>11</td>\n",
              "      <td>11</td>\n",
              "    </tr>\n",
              "    <tr>\n",
              "      <th>1</th>\n",
              "      <td>GP</td>\n",
              "      <td>F</td>\n",
              "      <td>17</td>\n",
              "      <td>U</td>\n",
              "      <td>GT3</td>\n",
              "      <td>T</td>\n",
              "      <td>1</td>\n",
              "      <td>1</td>\n",
              "      <td>at_home</td>\n",
              "      <td>other</td>\n",
              "      <td>course</td>\n",
              "      <td>father</td>\n",
              "      <td>1</td>\n",
              "      <td>2</td>\n",
              "      <td>0</td>\n",
              "      <td>no</td>\n",
              "      <td>yes</td>\n",
              "      <td>no</td>\n",
              "      <td>no</td>\n",
              "      <td>no</td>\n",
              "      <td>yes</td>\n",
              "      <td>yes</td>\n",
              "      <td>no</td>\n",
              "      <td>5</td>\n",
              "      <td>3</td>\n",
              "      <td>3</td>\n",
              "      <td>1</td>\n",
              "      <td>1</td>\n",
              "      <td>3</td>\n",
              "      <td>2</td>\n",
              "      <td>9</td>\n",
              "      <td>11</td>\n",
              "      <td>11</td>\n",
              "    </tr>\n",
              "    <tr>\n",
              "      <th>2</th>\n",
              "      <td>GP</td>\n",
              "      <td>F</td>\n",
              "      <td>15</td>\n",
              "      <td>U</td>\n",
              "      <td>LE3</td>\n",
              "      <td>T</td>\n",
              "      <td>1</td>\n",
              "      <td>1</td>\n",
              "      <td>at_home</td>\n",
              "      <td>other</td>\n",
              "      <td>other</td>\n",
              "      <td>mother</td>\n",
              "      <td>1</td>\n",
              "      <td>2</td>\n",
              "      <td>0</td>\n",
              "      <td>yes</td>\n",
              "      <td>no</td>\n",
              "      <td>no</td>\n",
              "      <td>no</td>\n",
              "      <td>yes</td>\n",
              "      <td>yes</td>\n",
              "      <td>yes</td>\n",
              "      <td>no</td>\n",
              "      <td>4</td>\n",
              "      <td>3</td>\n",
              "      <td>2</td>\n",
              "      <td>2</td>\n",
              "      <td>3</td>\n",
              "      <td>3</td>\n",
              "      <td>6</td>\n",
              "      <td>12</td>\n",
              "      <td>13</td>\n",
              "      <td>12</td>\n",
              "    </tr>\n",
              "    <tr>\n",
              "      <th>3</th>\n",
              "      <td>GP</td>\n",
              "      <td>F</td>\n",
              "      <td>15</td>\n",
              "      <td>U</td>\n",
              "      <td>GT3</td>\n",
              "      <td>T</td>\n",
              "      <td>4</td>\n",
              "      <td>2</td>\n",
              "      <td>health</td>\n",
              "      <td>services</td>\n",
              "      <td>home</td>\n",
              "      <td>mother</td>\n",
              "      <td>1</td>\n",
              "      <td>3</td>\n",
              "      <td>0</td>\n",
              "      <td>no</td>\n",
              "      <td>yes</td>\n",
              "      <td>no</td>\n",
              "      <td>yes</td>\n",
              "      <td>yes</td>\n",
              "      <td>yes</td>\n",
              "      <td>yes</td>\n",
              "      <td>yes</td>\n",
              "      <td>3</td>\n",
              "      <td>2</td>\n",
              "      <td>2</td>\n",
              "      <td>1</td>\n",
              "      <td>1</td>\n",
              "      <td>5</td>\n",
              "      <td>0</td>\n",
              "      <td>14</td>\n",
              "      <td>14</td>\n",
              "      <td>14</td>\n",
              "    </tr>\n",
              "    <tr>\n",
              "      <th>4</th>\n",
              "      <td>GP</td>\n",
              "      <td>F</td>\n",
              "      <td>16</td>\n",
              "      <td>U</td>\n",
              "      <td>GT3</td>\n",
              "      <td>T</td>\n",
              "      <td>3</td>\n",
              "      <td>3</td>\n",
              "      <td>other</td>\n",
              "      <td>other</td>\n",
              "      <td>home</td>\n",
              "      <td>father</td>\n",
              "      <td>1</td>\n",
              "      <td>2</td>\n",
              "      <td>0</td>\n",
              "      <td>no</td>\n",
              "      <td>yes</td>\n",
              "      <td>no</td>\n",
              "      <td>no</td>\n",
              "      <td>yes</td>\n",
              "      <td>yes</td>\n",
              "      <td>no</td>\n",
              "      <td>no</td>\n",
              "      <td>4</td>\n",
              "      <td>3</td>\n",
              "      <td>2</td>\n",
              "      <td>1</td>\n",
              "      <td>2</td>\n",
              "      <td>5</td>\n",
              "      <td>0</td>\n",
              "      <td>11</td>\n",
              "      <td>13</td>\n",
              "      <td>13</td>\n",
              "    </tr>\n",
              "  </tbody>\n",
              "</table>\n",
              "</div>"
            ],
            "text/plain": [
              "  school sex  age address famsize Pstatus  ...  Walc  health absences  G1  G2  G3\n",
              "0     GP   F   18       U     GT3       A  ...     1       3        4   0  11  11\n",
              "1     GP   F   17       U     GT3       T  ...     1       3        2   9  11  11\n",
              "2     GP   F   15       U     LE3       T  ...     3       3        6  12  13  12\n",
              "3     GP   F   15       U     GT3       T  ...     1       5        0  14  14  14\n",
              "4     GP   F   16       U     GT3       T  ...     2       5        0  11  13  13\n",
              "\n",
              "[5 rows x 33 columns]"
            ]
          },
          "metadata": {
            "tags": []
          },
          "execution_count": 695
        }
      ]
    },
    {
      "cell_type": "markdown",
      "metadata": {
        "id": "Uec0HVu44cAG",
        "colab_type": "text"
      },
      "source": [
        "## Metadata regarding on both datasets."
      ]
    },
    {
      "cell_type": "code",
      "metadata": {
        "id": "rFT0M0R2s2KQ",
        "colab_type": "code",
        "colab": {
          "base_uri": "https://localhost:8080/",
          "height": 314
        },
        "outputId": "f142397f-628b-4469-a397-892755f4cdc8"
      },
      "source": [
        "df_mat.describe()"
      ],
      "execution_count": 696,
      "outputs": [
        {
          "output_type": "execute_result",
          "data": {
            "text/html": [
              "<div>\n",
              "<style scoped>\n",
              "    .dataframe tbody tr th:only-of-type {\n",
              "        vertical-align: middle;\n",
              "    }\n",
              "\n",
              "    .dataframe tbody tr th {\n",
              "        vertical-align: top;\n",
              "    }\n",
              "\n",
              "    .dataframe thead th {\n",
              "        text-align: right;\n",
              "    }\n",
              "</style>\n",
              "<table border=\"1\" class=\"dataframe\">\n",
              "  <thead>\n",
              "    <tr style=\"text-align: right;\">\n",
              "      <th></th>\n",
              "      <th>age</th>\n",
              "      <th>Medu</th>\n",
              "      <th>Fedu</th>\n",
              "      <th>traveltime</th>\n",
              "      <th>studytime</th>\n",
              "      <th>failures</th>\n",
              "      <th>famrel</th>\n",
              "      <th>freetime</th>\n",
              "      <th>goout</th>\n",
              "      <th>Dalc</th>\n",
              "      <th>Walc</th>\n",
              "      <th>health</th>\n",
              "      <th>absences</th>\n",
              "      <th>G1</th>\n",
              "      <th>G2</th>\n",
              "      <th>G3</th>\n",
              "    </tr>\n",
              "  </thead>\n",
              "  <tbody>\n",
              "    <tr>\n",
              "      <th>count</th>\n",
              "      <td>395.000000</td>\n",
              "      <td>395.000000</td>\n",
              "      <td>395.000000</td>\n",
              "      <td>395.000000</td>\n",
              "      <td>395.000000</td>\n",
              "      <td>395.000000</td>\n",
              "      <td>395.000000</td>\n",
              "      <td>395.000000</td>\n",
              "      <td>395.000000</td>\n",
              "      <td>395.000000</td>\n",
              "      <td>395.000000</td>\n",
              "      <td>395.000000</td>\n",
              "      <td>395.000000</td>\n",
              "      <td>395.000000</td>\n",
              "      <td>395.000000</td>\n",
              "      <td>395.000000</td>\n",
              "    </tr>\n",
              "    <tr>\n",
              "      <th>mean</th>\n",
              "      <td>16.696203</td>\n",
              "      <td>2.749367</td>\n",
              "      <td>2.521519</td>\n",
              "      <td>1.448101</td>\n",
              "      <td>2.035443</td>\n",
              "      <td>0.334177</td>\n",
              "      <td>3.944304</td>\n",
              "      <td>3.235443</td>\n",
              "      <td>3.108861</td>\n",
              "      <td>1.481013</td>\n",
              "      <td>2.291139</td>\n",
              "      <td>3.554430</td>\n",
              "      <td>5.708861</td>\n",
              "      <td>10.908861</td>\n",
              "      <td>10.713924</td>\n",
              "      <td>10.415190</td>\n",
              "    </tr>\n",
              "    <tr>\n",
              "      <th>std</th>\n",
              "      <td>1.276043</td>\n",
              "      <td>1.094735</td>\n",
              "      <td>1.088201</td>\n",
              "      <td>0.697505</td>\n",
              "      <td>0.839240</td>\n",
              "      <td>0.743651</td>\n",
              "      <td>0.896659</td>\n",
              "      <td>0.998862</td>\n",
              "      <td>1.113278</td>\n",
              "      <td>0.890741</td>\n",
              "      <td>1.287897</td>\n",
              "      <td>1.390303</td>\n",
              "      <td>8.003096</td>\n",
              "      <td>3.319195</td>\n",
              "      <td>3.761505</td>\n",
              "      <td>4.581443</td>\n",
              "    </tr>\n",
              "    <tr>\n",
              "      <th>min</th>\n",
              "      <td>15.000000</td>\n",
              "      <td>0.000000</td>\n",
              "      <td>0.000000</td>\n",
              "      <td>1.000000</td>\n",
              "      <td>1.000000</td>\n",
              "      <td>0.000000</td>\n",
              "      <td>1.000000</td>\n",
              "      <td>1.000000</td>\n",
              "      <td>1.000000</td>\n",
              "      <td>1.000000</td>\n",
              "      <td>1.000000</td>\n",
              "      <td>1.000000</td>\n",
              "      <td>0.000000</td>\n",
              "      <td>3.000000</td>\n",
              "      <td>0.000000</td>\n",
              "      <td>0.000000</td>\n",
              "    </tr>\n",
              "    <tr>\n",
              "      <th>25%</th>\n",
              "      <td>16.000000</td>\n",
              "      <td>2.000000</td>\n",
              "      <td>2.000000</td>\n",
              "      <td>1.000000</td>\n",
              "      <td>1.000000</td>\n",
              "      <td>0.000000</td>\n",
              "      <td>4.000000</td>\n",
              "      <td>3.000000</td>\n",
              "      <td>2.000000</td>\n",
              "      <td>1.000000</td>\n",
              "      <td>1.000000</td>\n",
              "      <td>3.000000</td>\n",
              "      <td>0.000000</td>\n",
              "      <td>8.000000</td>\n",
              "      <td>9.000000</td>\n",
              "      <td>8.000000</td>\n",
              "    </tr>\n",
              "    <tr>\n",
              "      <th>50%</th>\n",
              "      <td>17.000000</td>\n",
              "      <td>3.000000</td>\n",
              "      <td>2.000000</td>\n",
              "      <td>1.000000</td>\n",
              "      <td>2.000000</td>\n",
              "      <td>0.000000</td>\n",
              "      <td>4.000000</td>\n",
              "      <td>3.000000</td>\n",
              "      <td>3.000000</td>\n",
              "      <td>1.000000</td>\n",
              "      <td>2.000000</td>\n",
              "      <td>4.000000</td>\n",
              "      <td>4.000000</td>\n",
              "      <td>11.000000</td>\n",
              "      <td>11.000000</td>\n",
              "      <td>11.000000</td>\n",
              "    </tr>\n",
              "    <tr>\n",
              "      <th>75%</th>\n",
              "      <td>18.000000</td>\n",
              "      <td>4.000000</td>\n",
              "      <td>3.000000</td>\n",
              "      <td>2.000000</td>\n",
              "      <td>2.000000</td>\n",
              "      <td>0.000000</td>\n",
              "      <td>5.000000</td>\n",
              "      <td>4.000000</td>\n",
              "      <td>4.000000</td>\n",
              "      <td>2.000000</td>\n",
              "      <td>3.000000</td>\n",
              "      <td>5.000000</td>\n",
              "      <td>8.000000</td>\n",
              "      <td>13.000000</td>\n",
              "      <td>13.000000</td>\n",
              "      <td>14.000000</td>\n",
              "    </tr>\n",
              "    <tr>\n",
              "      <th>max</th>\n",
              "      <td>22.000000</td>\n",
              "      <td>4.000000</td>\n",
              "      <td>4.000000</td>\n",
              "      <td>4.000000</td>\n",
              "      <td>4.000000</td>\n",
              "      <td>3.000000</td>\n",
              "      <td>5.000000</td>\n",
              "      <td>5.000000</td>\n",
              "      <td>5.000000</td>\n",
              "      <td>5.000000</td>\n",
              "      <td>5.000000</td>\n",
              "      <td>5.000000</td>\n",
              "      <td>75.000000</td>\n",
              "      <td>19.000000</td>\n",
              "      <td>19.000000</td>\n",
              "      <td>20.000000</td>\n",
              "    </tr>\n",
              "  </tbody>\n",
              "</table>\n",
              "</div>"
            ],
            "text/plain": [
              "              age        Medu        Fedu  ...          G1          G2          G3\n",
              "count  395.000000  395.000000  395.000000  ...  395.000000  395.000000  395.000000\n",
              "mean    16.696203    2.749367    2.521519  ...   10.908861   10.713924   10.415190\n",
              "std      1.276043    1.094735    1.088201  ...    3.319195    3.761505    4.581443\n",
              "min     15.000000    0.000000    0.000000  ...    3.000000    0.000000    0.000000\n",
              "25%     16.000000    2.000000    2.000000  ...    8.000000    9.000000    8.000000\n",
              "50%     17.000000    3.000000    2.000000  ...   11.000000   11.000000   11.000000\n",
              "75%     18.000000    4.000000    3.000000  ...   13.000000   13.000000   14.000000\n",
              "max     22.000000    4.000000    4.000000  ...   19.000000   19.000000   20.000000\n",
              "\n",
              "[8 rows x 16 columns]"
            ]
          },
          "metadata": {
            "tags": []
          },
          "execution_count": 696
        }
      ]
    },
    {
      "cell_type": "code",
      "metadata": {
        "id": "dCwsW4x7s5tO",
        "colab_type": "code",
        "colab": {
          "base_uri": "https://localhost:8080/",
          "height": 314
        },
        "outputId": "84d2cd94-9959-491b-c778-59a82d139e91"
      },
      "source": [
        "df_por.describe()"
      ],
      "execution_count": 697,
      "outputs": [
        {
          "output_type": "execute_result",
          "data": {
            "text/html": [
              "<div>\n",
              "<style scoped>\n",
              "    .dataframe tbody tr th:only-of-type {\n",
              "        vertical-align: middle;\n",
              "    }\n",
              "\n",
              "    .dataframe tbody tr th {\n",
              "        vertical-align: top;\n",
              "    }\n",
              "\n",
              "    .dataframe thead th {\n",
              "        text-align: right;\n",
              "    }\n",
              "</style>\n",
              "<table border=\"1\" class=\"dataframe\">\n",
              "  <thead>\n",
              "    <tr style=\"text-align: right;\">\n",
              "      <th></th>\n",
              "      <th>age</th>\n",
              "      <th>Medu</th>\n",
              "      <th>Fedu</th>\n",
              "      <th>traveltime</th>\n",
              "      <th>studytime</th>\n",
              "      <th>failures</th>\n",
              "      <th>famrel</th>\n",
              "      <th>freetime</th>\n",
              "      <th>goout</th>\n",
              "      <th>Dalc</th>\n",
              "      <th>Walc</th>\n",
              "      <th>health</th>\n",
              "      <th>absences</th>\n",
              "      <th>G1</th>\n",
              "      <th>G2</th>\n",
              "      <th>G3</th>\n",
              "    </tr>\n",
              "  </thead>\n",
              "  <tbody>\n",
              "    <tr>\n",
              "      <th>count</th>\n",
              "      <td>649.000000</td>\n",
              "      <td>649.000000</td>\n",
              "      <td>649.000000</td>\n",
              "      <td>649.000000</td>\n",
              "      <td>649.000000</td>\n",
              "      <td>649.000000</td>\n",
              "      <td>649.000000</td>\n",
              "      <td>649.000000</td>\n",
              "      <td>649.000000</td>\n",
              "      <td>649.000000</td>\n",
              "      <td>649.000000</td>\n",
              "      <td>649.000000</td>\n",
              "      <td>649.000000</td>\n",
              "      <td>649.000000</td>\n",
              "      <td>649.000000</td>\n",
              "      <td>649.000000</td>\n",
              "    </tr>\n",
              "    <tr>\n",
              "      <th>mean</th>\n",
              "      <td>16.744222</td>\n",
              "      <td>2.514638</td>\n",
              "      <td>2.306626</td>\n",
              "      <td>1.568567</td>\n",
              "      <td>1.930663</td>\n",
              "      <td>0.221880</td>\n",
              "      <td>3.930663</td>\n",
              "      <td>3.180277</td>\n",
              "      <td>3.184900</td>\n",
              "      <td>1.502311</td>\n",
              "      <td>2.280431</td>\n",
              "      <td>3.536210</td>\n",
              "      <td>3.659476</td>\n",
              "      <td>11.399076</td>\n",
              "      <td>11.570108</td>\n",
              "      <td>11.906009</td>\n",
              "    </tr>\n",
              "    <tr>\n",
              "      <th>std</th>\n",
              "      <td>1.218138</td>\n",
              "      <td>1.134552</td>\n",
              "      <td>1.099931</td>\n",
              "      <td>0.748660</td>\n",
              "      <td>0.829510</td>\n",
              "      <td>0.593235</td>\n",
              "      <td>0.955717</td>\n",
              "      <td>1.051093</td>\n",
              "      <td>1.175766</td>\n",
              "      <td>0.924834</td>\n",
              "      <td>1.284380</td>\n",
              "      <td>1.446259</td>\n",
              "      <td>4.640759</td>\n",
              "      <td>2.745265</td>\n",
              "      <td>2.913639</td>\n",
              "      <td>3.230656</td>\n",
              "    </tr>\n",
              "    <tr>\n",
              "      <th>min</th>\n",
              "      <td>15.000000</td>\n",
              "      <td>0.000000</td>\n",
              "      <td>0.000000</td>\n",
              "      <td>1.000000</td>\n",
              "      <td>1.000000</td>\n",
              "      <td>0.000000</td>\n",
              "      <td>1.000000</td>\n",
              "      <td>1.000000</td>\n",
              "      <td>1.000000</td>\n",
              "      <td>1.000000</td>\n",
              "      <td>1.000000</td>\n",
              "      <td>1.000000</td>\n",
              "      <td>0.000000</td>\n",
              "      <td>0.000000</td>\n",
              "      <td>0.000000</td>\n",
              "      <td>0.000000</td>\n",
              "    </tr>\n",
              "    <tr>\n",
              "      <th>25%</th>\n",
              "      <td>16.000000</td>\n",
              "      <td>2.000000</td>\n",
              "      <td>1.000000</td>\n",
              "      <td>1.000000</td>\n",
              "      <td>1.000000</td>\n",
              "      <td>0.000000</td>\n",
              "      <td>4.000000</td>\n",
              "      <td>3.000000</td>\n",
              "      <td>2.000000</td>\n",
              "      <td>1.000000</td>\n",
              "      <td>1.000000</td>\n",
              "      <td>2.000000</td>\n",
              "      <td>0.000000</td>\n",
              "      <td>10.000000</td>\n",
              "      <td>10.000000</td>\n",
              "      <td>10.000000</td>\n",
              "    </tr>\n",
              "    <tr>\n",
              "      <th>50%</th>\n",
              "      <td>17.000000</td>\n",
              "      <td>2.000000</td>\n",
              "      <td>2.000000</td>\n",
              "      <td>1.000000</td>\n",
              "      <td>2.000000</td>\n",
              "      <td>0.000000</td>\n",
              "      <td>4.000000</td>\n",
              "      <td>3.000000</td>\n",
              "      <td>3.000000</td>\n",
              "      <td>1.000000</td>\n",
              "      <td>2.000000</td>\n",
              "      <td>4.000000</td>\n",
              "      <td>2.000000</td>\n",
              "      <td>11.000000</td>\n",
              "      <td>11.000000</td>\n",
              "      <td>12.000000</td>\n",
              "    </tr>\n",
              "    <tr>\n",
              "      <th>75%</th>\n",
              "      <td>18.000000</td>\n",
              "      <td>4.000000</td>\n",
              "      <td>3.000000</td>\n",
              "      <td>2.000000</td>\n",
              "      <td>2.000000</td>\n",
              "      <td>0.000000</td>\n",
              "      <td>5.000000</td>\n",
              "      <td>4.000000</td>\n",
              "      <td>4.000000</td>\n",
              "      <td>2.000000</td>\n",
              "      <td>3.000000</td>\n",
              "      <td>5.000000</td>\n",
              "      <td>6.000000</td>\n",
              "      <td>13.000000</td>\n",
              "      <td>13.000000</td>\n",
              "      <td>14.000000</td>\n",
              "    </tr>\n",
              "    <tr>\n",
              "      <th>max</th>\n",
              "      <td>22.000000</td>\n",
              "      <td>4.000000</td>\n",
              "      <td>4.000000</td>\n",
              "      <td>4.000000</td>\n",
              "      <td>4.000000</td>\n",
              "      <td>3.000000</td>\n",
              "      <td>5.000000</td>\n",
              "      <td>5.000000</td>\n",
              "      <td>5.000000</td>\n",
              "      <td>5.000000</td>\n",
              "      <td>5.000000</td>\n",
              "      <td>5.000000</td>\n",
              "      <td>32.000000</td>\n",
              "      <td>19.000000</td>\n",
              "      <td>19.000000</td>\n",
              "      <td>19.000000</td>\n",
              "    </tr>\n",
              "  </tbody>\n",
              "</table>\n",
              "</div>"
            ],
            "text/plain": [
              "              age        Medu        Fedu  ...          G1          G2          G3\n",
              "count  649.000000  649.000000  649.000000  ...  649.000000  649.000000  649.000000\n",
              "mean    16.744222    2.514638    2.306626  ...   11.399076   11.570108   11.906009\n",
              "std      1.218138    1.134552    1.099931  ...    2.745265    2.913639    3.230656\n",
              "min     15.000000    0.000000    0.000000  ...    0.000000    0.000000    0.000000\n",
              "25%     16.000000    2.000000    1.000000  ...   10.000000   10.000000   10.000000\n",
              "50%     17.000000    2.000000    2.000000  ...   11.000000   11.000000   12.000000\n",
              "75%     18.000000    4.000000    3.000000  ...   13.000000   13.000000   14.000000\n",
              "max     22.000000    4.000000    4.000000  ...   19.000000   19.000000   19.000000\n",
              "\n",
              "[8 rows x 16 columns]"
            ]
          },
          "metadata": {
            "tags": []
          },
          "execution_count": 697
        }
      ]
    },
    {
      "cell_type": "code",
      "metadata": {
        "id": "YlKxsRvbtCX3",
        "colab_type": "code",
        "colab": {
          "base_uri": "https://localhost:8080/",
          "height": 711
        },
        "outputId": "6a23d2e8-4bfc-4b31-b2cc-ca18915aa801"
      },
      "source": [
        "df_mat.info()"
      ],
      "execution_count": 698,
      "outputs": [
        {
          "output_type": "stream",
          "text": [
            "<class 'pandas.core.frame.DataFrame'>\n",
            "RangeIndex: 395 entries, 0 to 394\n",
            "Data columns (total 33 columns):\n",
            " #   Column      Non-Null Count  Dtype \n",
            "---  ------      --------------  ----- \n",
            " 0   school      395 non-null    object\n",
            " 1   sex         395 non-null    object\n",
            " 2   age         395 non-null    int64 \n",
            " 3   address     395 non-null    object\n",
            " 4   famsize     395 non-null    object\n",
            " 5   Pstatus     395 non-null    object\n",
            " 6   Medu        395 non-null    int64 \n",
            " 7   Fedu        395 non-null    int64 \n",
            " 8   Mjob        395 non-null    object\n",
            " 9   Fjob        395 non-null    object\n",
            " 10  reason      395 non-null    object\n",
            " 11  guardian    395 non-null    object\n",
            " 12  traveltime  395 non-null    int64 \n",
            " 13  studytime   395 non-null    int64 \n",
            " 14  failures    395 non-null    int64 \n",
            " 15  schoolsup   395 non-null    object\n",
            " 16  famsup      395 non-null    object\n",
            " 17  paid        395 non-null    object\n",
            " 18  activities  395 non-null    object\n",
            " 19  nursery     395 non-null    object\n",
            " 20  higher      395 non-null    object\n",
            " 21  internet    395 non-null    object\n",
            " 22  romantic    395 non-null    object\n",
            " 23  famrel      395 non-null    int64 \n",
            " 24  freetime    395 non-null    int64 \n",
            " 25  goout       395 non-null    int64 \n",
            " 26  Dalc        395 non-null    int64 \n",
            " 27  Walc        395 non-null    int64 \n",
            " 28  health      395 non-null    int64 \n",
            " 29  absences    395 non-null    int64 \n",
            " 30  G1          395 non-null    int64 \n",
            " 31  G2          395 non-null    int64 \n",
            " 32  G3          395 non-null    int64 \n",
            "dtypes: int64(16), object(17)\n",
            "memory usage: 102.0+ KB\n"
          ],
          "name": "stdout"
        }
      ]
    },
    {
      "cell_type": "code",
      "metadata": {
        "id": "PN5sZAmhtGgz",
        "colab_type": "code",
        "colab": {
          "base_uri": "https://localhost:8080/",
          "height": 711
        },
        "outputId": "bdbeedc1-a73a-4d4e-d324-24aa79dbca92"
      },
      "source": [
        "df_por.info()"
      ],
      "execution_count": 699,
      "outputs": [
        {
          "output_type": "stream",
          "text": [
            "<class 'pandas.core.frame.DataFrame'>\n",
            "RangeIndex: 649 entries, 0 to 648\n",
            "Data columns (total 33 columns):\n",
            " #   Column      Non-Null Count  Dtype \n",
            "---  ------      --------------  ----- \n",
            " 0   school      649 non-null    object\n",
            " 1   sex         649 non-null    object\n",
            " 2   age         649 non-null    int64 \n",
            " 3   address     649 non-null    object\n",
            " 4   famsize     649 non-null    object\n",
            " 5   Pstatus     649 non-null    object\n",
            " 6   Medu        649 non-null    int64 \n",
            " 7   Fedu        649 non-null    int64 \n",
            " 8   Mjob        649 non-null    object\n",
            " 9   Fjob        649 non-null    object\n",
            " 10  reason      649 non-null    object\n",
            " 11  guardian    649 non-null    object\n",
            " 12  traveltime  649 non-null    int64 \n",
            " 13  studytime   649 non-null    int64 \n",
            " 14  failures    649 non-null    int64 \n",
            " 15  schoolsup   649 non-null    object\n",
            " 16  famsup      649 non-null    object\n",
            " 17  paid        649 non-null    object\n",
            " 18  activities  649 non-null    object\n",
            " 19  nursery     649 non-null    object\n",
            " 20  higher      649 non-null    object\n",
            " 21  internet    649 non-null    object\n",
            " 22  romantic    649 non-null    object\n",
            " 23  famrel      649 non-null    int64 \n",
            " 24  freetime    649 non-null    int64 \n",
            " 25  goout       649 non-null    int64 \n",
            " 26  Dalc        649 non-null    int64 \n",
            " 27  Walc        649 non-null    int64 \n",
            " 28  health      649 non-null    int64 \n",
            " 29  absences    649 non-null    int64 \n",
            " 30  G1          649 non-null    int64 \n",
            " 31  G2          649 non-null    int64 \n",
            " 32  G3          649 non-null    int64 \n",
            "dtypes: int64(16), object(17)\n",
            "memory usage: 167.4+ KB\n"
          ],
          "name": "stdout"
        }
      ]
    },
    {
      "cell_type": "code",
      "metadata": {
        "id": "8XjXfqWWtJiT",
        "colab_type": "code",
        "colab": {}
      },
      "source": [
        "def unique_categories(df):\n",
        "  for col in df.columns:\n",
        "    if(df[col].dtype==\"object\"):\n",
        "      print(col,\":\",df[col].unique())"
      ],
      "execution_count": 700,
      "outputs": []
    },
    {
      "cell_type": "markdown",
      "metadata": {
        "id": "PnGbZolE4q52",
        "colab_type": "text"
      },
      "source": [
        "### Categorical Variables"
      ]
    },
    {
      "cell_type": "code",
      "metadata": {
        "id": "zBcI3ytUt29N",
        "colab_type": "code",
        "colab": {
          "base_uri": "https://localhost:8080/",
          "height": 659
        },
        "outputId": "6ac09444-7ef0-4979-a54a-d1d0efcbbc85"
      },
      "source": [
        "print(\"DF MAT:\")\n",
        "unique_categories(df_mat)\n",
        "print(\"\\nDF POR:\")\n",
        "unique_categories(df_por)"
      ],
      "execution_count": 701,
      "outputs": [
        {
          "output_type": "stream",
          "text": [
            "DF MAT:\n",
            "school : ['GP' 'MS']\n",
            "sex : ['F' 'M']\n",
            "address : ['U' 'R']\n",
            "famsize : ['GT3' 'LE3']\n",
            "Pstatus : ['A' 'T']\n",
            "Mjob : ['at_home' 'health' 'other' 'services' 'teacher']\n",
            "Fjob : ['teacher' 'other' 'services' 'health' 'at_home']\n",
            "reason : ['course' 'other' 'home' 'reputation']\n",
            "guardian : ['mother' 'father' 'other']\n",
            "schoolsup : ['yes' 'no']\n",
            "famsup : ['no' 'yes']\n",
            "paid : ['no' 'yes']\n",
            "activities : ['no' 'yes']\n",
            "nursery : ['yes' 'no']\n",
            "higher : ['yes' 'no']\n",
            "internet : ['no' 'yes']\n",
            "romantic : ['no' 'yes']\n",
            "\n",
            "DF POR:\n",
            "school : ['GP' 'MS']\n",
            "sex : ['F' 'M']\n",
            "address : ['U' 'R']\n",
            "famsize : ['GT3' 'LE3']\n",
            "Pstatus : ['A' 'T']\n",
            "Mjob : ['at_home' 'health' 'other' 'services' 'teacher']\n",
            "Fjob : ['teacher' 'other' 'services' 'health' 'at_home']\n",
            "reason : ['course' 'other' 'home' 'reputation']\n",
            "guardian : ['mother' 'father' 'other']\n",
            "schoolsup : ['yes' 'no']\n",
            "famsup : ['no' 'yes']\n",
            "paid : ['no' 'yes']\n",
            "activities : ['no' 'yes']\n",
            "nursery : ['yes' 'no']\n",
            "higher : ['yes' 'no']\n",
            "internet : ['no' 'yes']\n",
            "romantic : ['no' 'yes']\n"
          ],
          "name": "stdout"
        }
      ]
    },
    {
      "cell_type": "markdown",
      "metadata": {
        "id": "r24ikrHt4jo8",
        "colab_type": "text"
      },
      "source": [
        "## EDA"
      ]
    },
    {
      "cell_type": "markdown",
      "metadata": {
        "id": "-0Prv2WN4yJb",
        "colab_type": "text"
      },
      "source": [
        "### School"
      ]
    },
    {
      "cell_type": "code",
      "metadata": {
        "id": "Q0eId-NQT2vZ",
        "colab_type": "code",
        "colab": {
          "base_uri": "https://localhost:8080/",
          "height": 367
        },
        "outputId": "25f1cc2e-c741-4194-b733-27efaade3341"
      },
      "source": [
        "print(\"'GP' - Gabriel Pereira or 'MS' - Mousinho da Silveira\")\n",
        "f, (ax1, ax2) = plt.subplots(1, 2, sharey=True,figsize=(10,5))\n",
        "ax1.set_title(\"Math\")\n",
        "sns.countplot(df_mat.school,data=df_mat,ax=ax1)\n",
        "ax2.set_title(\"Portuguese\")\n",
        "sns.countplot(df_por.school,data=df_por,ax=ax2)\n",
        "f.show()"
      ],
      "execution_count": 702,
      "outputs": [
        {
          "output_type": "stream",
          "text": [
            "'GP' - Gabriel Pereira or 'MS' - Mousinho da Silveira\n"
          ],
          "name": "stdout"
        },
        {
          "output_type": "display_data",
          "data": {
            "image/png": "[encoded data removed]",
            "text/plain": [
              "<Figure size 720x360 with 2 Axes>"
            ]
          },
          "metadata": {
            "tags": [],
            "needs_background": "light"
          }
        }
      ]
    },
    {
      "cell_type": "markdown",
      "metadata": {
        "id": "y6GlIHYr46i5",
        "colab_type": "text"
      },
      "source": [
        "### Sex"
      ]
    },
    {
      "cell_type": "code",
      "metadata": {
        "id": "b_MIONahVi3R",
        "colab_type": "code",
        "colab": {
          "base_uri": "https://localhost:8080/",
          "height": 350
        },
        "outputId": "fe2af076-7a93-4436-9751-6a9e7a572d4f"
      },
      "source": [
        "f, (ax1, ax2) = plt.subplots(1, 2, sharey=True,figsize=(10,5))\n",
        "ax1.set_title(\"Math\")\n",
        "sns.countplot(df_mat.sex,data=df_mat,ax=ax1)\n",
        "ax2.set_title(\"Portuguese\")\n",
        "sns.countplot(df_por.sex,data=df_por,ax=ax2)\n",
        "f.show()"
      ],
      "execution_count": 703,
      "outputs": [
        {
          "output_type": "display_data",
          "data": {
            "image/png": "[encoded data removed]",
            "text/plain": [
              "<Figure size 720x360 with 2 Axes>"
            ]
          },
          "metadata": {
            "tags": [],
            "needs_background": "light"
          }
        }
      ]
    },
    {
      "cell_type": "markdown",
      "metadata": {
        "id": "JUD1K0yh4-yk",
        "colab_type": "text"
      },
      "source": [
        "### Address"
      ]
    },
    {
      "cell_type": "code",
      "metadata": {
        "id": "jSGHjG3RVsZu",
        "colab_type": "code",
        "colab": {
          "base_uri": "https://localhost:8080/",
          "height": 367
        },
        "outputId": "eeb134f1-58a5-4282-98a3-99ae1b6dae09"
      },
      "source": [
        "print(\" 'U' - urban or 'R' - rural\")\n",
        "f, (ax1, ax2) = plt.subplots(1, 2, sharey=True,figsize=(10,5))\n",
        "ax1.set_title(\"Math\")\n",
        "sns.countplot(df_mat.address,data=df_mat,ax=ax1)\n",
        "ax2.set_title(\"Portuguese\")\n",
        "sns.countplot(df_por.address,data=df_por,ax=ax2)\n",
        "f.show()"
      ],
      "execution_count": 704,
      "outputs": [
        {
          "output_type": "stream",
          "text": [
            " 'U' - urban or 'R' - rural\n"
          ],
          "name": "stdout"
        },
        {
          "output_type": "display_data",
          "data": {
            "image/png": "[encoded data removed]",
            "text/plain": [
              "<Figure size 720x360 with 2 Axes>"
            ]
          },
          "metadata": {
            "tags": [],
            "needs_background": "light"
          }
        }
      ]
    },
    {
      "cell_type": "markdown",
      "metadata": {
        "id": "AqOA54Bo5AxO",
        "colab_type": "text"
      },
      "source": [
        "### Family size"
      ]
    },
    {
      "cell_type": "code",
      "metadata": {
        "id": "gZwWIGhjWfn6",
        "colab_type": "code",
        "colab": {
          "base_uri": "https://localhost:8080/",
          "height": 367
        },
        "outputId": "d06187b5-0986-407f-9297-dcbff60499bb"
      },
      "source": [
        "print(\"'LE3' - less or equal to 3 or 'GT3' - greater than 3\")\n",
        "f, (ax1, ax2) = plt.subplots(1, 2, sharey=True,figsize=(10,5))\n",
        "ax1.set_title(\"Math\")\n",
        "sns.countplot(df_mat.famsize,data=df_mat,ax=ax1)\n",
        "ax2.set_title(\"Portuguese\")\n",
        "sns.countplot(df_por.famsize,data=df_por,ax=ax2)\n",
        "f.show()"
      ],
      "execution_count": 705,
      "outputs": [
        {
          "output_type": "stream",
          "text": [
            "'LE3' - less or equal to 3 or 'GT3' - greater than 3\n"
          ],
          "name": "stdout"
        },
        {
          "output_type": "display_data",
          "data": {
            "image/png": "[encoded data removed]",
            "text/plain": [
              "<Figure size 720x360 with 2 Axes>"
            ]
          },
          "metadata": {
            "tags": [],
            "needs_background": "light"
          }
        }
      ]
    },
    {
      "cell_type": "markdown",
      "metadata": {
        "id": "UrDgF2Hm5EgL",
        "colab_type": "text"
      },
      "source": [
        "### Parents maritial status"
      ]
    },
    {
      "cell_type": "code",
      "metadata": {
        "id": "Xq7O0EW5WvN2",
        "colab_type": "code",
        "colab": {
          "base_uri": "https://localhost:8080/",
          "height": 367
        },
        "outputId": "d0406424-f7b1-425e-9f75-d13df8e49185"
      },
      "source": [
        "print(\"'T' - living together or 'A' - apart\")\n",
        "f, (ax1, ax2) = plt.subplots(1, 2, sharey=True,figsize=(10,5))\n",
        "ax1.set_title(\"Math\")\n",
        "sns.countplot(df_mat.Pstatus,data=df_mat,ax=ax1)\n",
        "ax2.set_title(\"Portuguese\")\n",
        "sns.countplot(df_por.Pstatus,data=df_por,ax=ax2)\n",
        "f.show()"
      ],
      "execution_count": 706,
      "outputs": [
        {
          "output_type": "stream",
          "text": [
            "'T' - living together or 'A' - apart\n"
          ],
          "name": "stdout"
        },
        {
          "output_type": "display_data",
          "data": {
            "image/png": "[encoded data removed]",
            "text/plain": [
              "<Figure size 720x360 with 2 Axes>"
            ]
          },
          "metadata": {
            "tags": [],
            "needs_background": "light"
          }
        }
      ]
    },
    {
      "cell_type": "markdown",
      "metadata": {
        "id": "F9poigUT5LVJ",
        "colab_type": "text"
      },
      "source": [
        "### Father,Mother job ,reason to choose this school, student's guardian"
      ]
    },
    {
      "cell_type": "code",
      "metadata": {
        "id": "yqRXfUHpW-ZG",
        "colab_type": "code",
        "colab": {
          "base_uri": "https://localhost:8080/",
          "height": 1000
        },
        "outputId": "09a38a74-9467-4ded-c4a1-fac67c93693b"
      },
      "source": [
        "f, ([ax1, ax2],[ax3,ax4],[ax5,ax6],[ax7,ax8]) = plt.subplots(4, 2, sharey=True,figsize=(10,20))\n",
        "ax1.set_title(\"Math\")\n",
        "sns.countplot(df_mat.Mjob,data=df_mat,ax=ax1)\n",
        "ax2.set_title(\"Portuguese\")\n",
        "sns.countplot(df_por.Mjob,data=df_por,ax=ax2)\n",
        "sns.countplot(df_mat.Fjob,data=df_mat,ax=ax3)\n",
        "sns.countplot(df_por.Fjob,data=df_por,ax=ax4)\n",
        "sns.countplot(df_mat.reason,data=df_mat,ax=ax5)\n",
        "sns.countplot(df_por.reason,data=df_por,ax=ax6)\n",
        "sns.countplot(df_mat.guardian,data=df_mat,ax=ax7)\n",
        "sns.countplot(df_por.guardian,data=df_por,ax=ax8)\n",
        "f.show()"
      ],
      "execution_count": 707,
      "outputs": [
        {
          "output_type": "display_data",
          "data": {
            "image/png": "[encoded data removed]",
            "text/plain": [
              "<Figure size 720x1440 with 8 Axes>"
            ]
          },
          "metadata": {
            "tags": [],
            "needs_background": "light"
          }
        }
      ]
    },
    {
      "cell_type": "markdown",
      "metadata": {
        "id": "cG0jS8615jyo",
        "colab_type": "text"
      },
      "source": [
        "### Extra educational support (schoolsup),family educational support (famsup),extra paid classes within the course subject (paid),extra-curricular activities (activities)"
      ]
    },
    {
      "cell_type": "code",
      "metadata": {
        "id": "U5rM2xeoYeT6",
        "colab_type": "code",
        "colab": {
          "base_uri": "https://localhost:8080/",
          "height": 1000
        },
        "outputId": "cfc154c5-4330-4858-d88f-eeb88bec6f4e"
      },
      "source": [
        "f, ([ax1, ax2],[ax3,ax4],[ax5,ax6],[ax7,ax8]) = plt.subplots(4, 2, sharey=True,figsize=(10,20))\n",
        "ax1.set_title(\"Math\")\n",
        "sns.countplot(df_mat.schoolsup,data=df_mat,ax=ax1,palette=[\"r\",\"g\"])\n",
        "ax2.set_title(\"Portuguese\")\n",
        "sns.countplot(df_por.schoolsup,data=df_por,ax=ax2,palette=[\"r\",\"g\"])\n",
        "sns.countplot(df_mat.famsup,data=df_mat,ax=ax3,palette=[\"r\",\"g\"])\n",
        "sns.countplot(df_por.famsup,data=df_por,ax=ax4,palette=[\"r\",\"g\"])\n",
        "sns.countplot(df_mat.paid,data=df_mat,ax=ax5,palette=[\"r\",\"g\"])\n",
        "sns.countplot(df_por.paid,data=df_por,ax=ax6,palette=[\"r\",\"g\"])\n",
        "sns.countplot(df_mat.activities,data=df_mat,ax=ax7,palette=[\"r\",\"g\"])\n",
        "sns.countplot(df_por.activities,data=df_por,ax=ax8,palette=[\"r\",\"g\"])\n",
        "f.show()"
      ],
      "execution_count": 708,
      "outputs": [
        {
          "output_type": "display_data",
          "data": {
            "image/png": "[encoded data removed]",
            "text/plain": [
              "<Figure size 720x1440 with 8 Axes>"
            ]
          },
          "metadata": {
            "tags": [],
            "needs_background": "light"
          }
        }
      ]
    },
    {
      "cell_type": "markdown",
      "metadata": {
        "id": "uR2cR6SP6Has",
        "colab_type": "text"
      },
      "source": [
        "### Attended nursery school (nursery),wants to take higher education (higher),Internet access at home (internet),with a romantic relationship (romantic)"
      ]
    },
    {
      "cell_type": "code",
      "metadata": {
        "id": "fCKhQpl_Y7nR",
        "colab_type": "code",
        "colab": {
          "base_uri": "https://localhost:8080/",
          "height": 1000
        },
        "outputId": "e5dff99c-8528-43b9-e543-234c813240ba"
      },
      "source": [
        "f, ([ax1, ax2],[ax3,ax4],[ax5,ax6],[ax7,ax8]) = plt.subplots(4, 2, sharey=True,figsize=(10,20))\n",
        "ax1.set_title(\"Math\")\n",
        "sns.countplot(df_mat.nursery,data=df_mat,ax=ax1,palette=[\"r\",\"b\"])\n",
        "ax2.set_title(\"Portuguese\")\n",
        "sns.countplot(df_por.nursery,data=df_por,ax=ax2,palette=[\"r\",\"b\"])\n",
        "sns.countplot(df_mat.higher,data=df_mat,ax=ax3,palette=[\"r\",\"b\"])\n",
        "sns.countplot(df_por.higher,data=df_por,ax=ax4,palette=[\"r\",\"b\"])\n",
        "sns.countplot(df_mat.romantic,data=df_mat,ax=ax5,palette=[\"r\",\"b\"])\n",
        "sns.countplot(df_por.romantic,data=df_por,ax=ax6,palette=[\"r\",\"b\"])\n",
        "sns.countplot(df_mat.internet,data=df_mat,ax=ax7,palette=[\"r\",\"b\"])\n",
        "sns.countplot(df_por.internet,data=df_por,ax=ax8,palette=[\"r\",\"b\"])\n",
        "f.show()"
      ],
      "execution_count": 709,
      "outputs": [
        {
          "output_type": "display_data",
          "data": {
            "image/png": "[encoded data removed]",
            "text/plain": [
              "<Figure size 720x1440 with 8 Axes>"
            ]
          },
          "metadata": {
            "tags": [],
            "needs_background": "light"
          }
        }
      ]
    },
    {
      "cell_type": "markdown",
      "metadata": {
        "id": "yeHogz5t6i5y",
        "colab_type": "text"
      },
      "source": [
        "### Correlation Matrix"
      ]
    },
    {
      "cell_type": "code",
      "metadata": {
        "id": "jKg0kTTIa_p8",
        "colab_type": "code",
        "colab": {
          "base_uri": "https://localhost:8080/",
          "height": 749
        },
        "outputId": "0b40ebbf-f0a4-4869-9edf-e1aa449ba2f2"
      },
      "source": [
        "fig, (ax1,ax2) = plt.subplots(1,2,figsize=(20,12))         # Sample figsize in inches\n",
        "sns.heatmap(df_mat.corr(), annot=True, linewidths=.5,ax=ax1, fmt= '.1f',mask= np.triu(np.ones_like(df_mat.corr(), dtype=np.bool)))\n",
        "sns.heatmap(df_por.corr(), annot=True, linewidths=.5,ax=ax2, fmt= '.1f',mask= np.triu(np.ones_like(df_por.corr(), dtype=np.bool)))"
      ],
      "execution_count": 710,
      "outputs": [
        {
          "output_type": "execute_result",
          "data": {
            "text/plain": [
              "<matplotlib.axes._subplots.AxesSubplot at 0x7fa91bcd7c18>"
            ]
          },
          "metadata": {
            "tags": []
          },
          "execution_count": 710
        },
        {
          "output_type": "display_data",
          "data": {
            "image/png": "[encoded data removed]",
            "text/plain": [
              "<Figure size 1440x864 with 4 Axes>"
            ]
          },
          "metadata": {
            "tags": [],
            "needs_background": "light"
          }
        }
      ]
    },
    {
      "cell_type": "markdown",
      "metadata": {
        "id": "FhGknaNM6sUp",
        "colab_type": "text"
      },
      "source": [
        "### Pairplot for continious variables"
      ]
    },
    {
      "cell_type": "code",
      "metadata": {
        "id": "sP4SQQ3ZgP0i",
        "colab_type": "code",
        "colab": {}
      },
      "source": [
        "#g=sns.pairplot(df_mat.drop(columns=['school', 'sex', 'address', 'famsize', 'Pstatus', 'Mjob', 'Fjob', 'reason', 'guardian', 'schoolsup', 'famsup', 'paid', 'activities', 'nursery', 'higher', 'internet', 'romantic']))\n",
        "#g.fig.set_size_inches(50,50)"
      ],
      "execution_count": 711,
      "outputs": []
    },
    {
      "cell_type": "markdown",
      "metadata": {
        "id": "Q15axd-f7AsZ",
        "colab_type": "text"
      },
      "source": [
        "## Data Preprocessing"
      ]
    },
    {
      "cell_type": "code",
      "metadata": {
        "id": "7W9B-2L27MRn",
        "colab_type": "code",
        "colab": {}
      },
      "source": [
        "features_mat = df_mat.drop(columns=[\"G1\",\"G2\",\"G3\"])\n",
        "target_mat = df_mat.G3\n",
        "\n",
        "features_por = df_por.drop(columns=[\"G1\",\"G2\",\"G3\"])\n",
        "target_por = df_por.G3"
      ],
      "execution_count": 738,
      "outputs": []
    },
    {
      "cell_type": "code",
      "metadata": {
        "id": "1J5-C5ARiBcG",
        "colab_type": "code",
        "colab": {}
      },
      "source": [
        "features_mat = df_mat.drop(columns=[\"G1\",\"G2\",\"G3\"],axis=1)\n",
        "target_mat = df_mat.G3\n",
        "\n",
        "features_por = df_por.drop(columns=[\"G1\",\"G2\",\"G3\"])\n",
        "target_por = df_por.G3\n",
        "\n",
        "features_mat=features_mat.append(features_por,ignore_index=True)\n",
        "target_mat=target_mat.append(target_por,ignore_index=True)"
      ],
      "execution_count": 885,
      "outputs": []
    },
    {
      "cell_type": "code",
      "metadata": {
        "id": "tc0dJUjLjJo0",
        "colab_type": "code",
        "colab": {
          "base_uri": "https://localhost:8080/",
          "height": 35
        },
        "outputId": "c5fdc422-0ae1-4ee1-e629-4df40cb4d7a7"
      },
      "source": [
        "len(features_mat)"
      ],
      "execution_count": 886,
      "outputs": [
        {
          "output_type": "execute_result",
          "data": {
            "text/plain": [
              "1044"
            ]
          },
          "metadata": {
            "tags": []
          },
          "execution_count": 886
        }
      ]
    },
    {
      "cell_type": "code",
      "metadata": {
        "id": "s7UTGThIMvRL",
        "colab_type": "code",
        "colab": {}
      },
      "source": [
        "d = {range(0, 10): 0,range(10, 20): 1}\n",
        "\n",
        "target_mat = target_mat.apply(lambda x: next((v for k, v in d.items() if x in k), 0))"
      ],
      "execution_count": 887,
      "outputs": []
    },
    {
      "cell_type": "code",
      "metadata": {
        "id": "Mw4KNCpAI0XC",
        "colab_type": "code",
        "colab": {}
      },
      "source": [
        "features_mat = pd.get_dummies(features_mat)"
      ],
      "execution_count": 888,
      "outputs": []
    },
    {
      "cell_type": "code",
      "metadata": {
        "id": "Zg6yodfQKLmE",
        "colab_type": "code",
        "colab": {}
      },
      "source": [
        "standard = MinMaxScaler()\n",
        "features_mat_ = pd.DataFrame(standard.fit_transform(features_mat.select_dtypes(\"int64\")),columns=features_mat.select_dtypes(\"int64\").columns)\n",
        "for col in features_mat_.columns:\n",
        "  features_mat[col] = features_mat_[col]"
      ],
      "execution_count": 889,
      "outputs": []
    },
    {
      "cell_type": "code",
      "metadata": {
        "id": "7TNIViOO7mRS",
        "colab_type": "code",
        "colab": {}
      },
      "source": [
        "X_train,X_test,y_train,y_test = train_test_split(features_mat,target_mat,test_size=0.33,random_state=42)"
      ],
      "execution_count": 890,
      "outputs": []
    },
    {
      "cell_type": "code",
      "metadata": {
        "id": "sBBzR40ASdXZ",
        "colab_type": "code",
        "colab": {
          "base_uri": "https://localhost:8080/",
          "height": 222
        },
        "outputId": "d2693d2b-5307-4d6a-f6c3-226be2b7cfd0"
      },
      "source": [
        "X_train.head()"
      ],
      "execution_count": 891,
      "outputs": [
        {
          "output_type": "execute_result",
          "data": {
            "text/html": [
              "<div>\n",
              "<style scoped>\n",
              "    .dataframe tbody tr th:only-of-type {\n",
              "        vertical-align: middle;\n",
              "    }\n",
              "\n",
              "    .dataframe tbody tr th {\n",
              "        vertical-align: top;\n",
              "    }\n",
              "\n",
              "    .dataframe thead th {\n",
              "        text-align: right;\n",
              "    }\n",
              "</style>\n",
              "<table border=\"1\" class=\"dataframe\">\n",
              "  <thead>\n",
              "    <tr style=\"text-align: right;\">\n",
              "      <th></th>\n",
              "      <th>age</th>\n",
              "      <th>Medu</th>\n",
              "      <th>Fedu</th>\n",
              "      <th>traveltime</th>\n",
              "      <th>studytime</th>\n",
              "      <th>failures</th>\n",
              "      <th>famrel</th>\n",
              "      <th>freetime</th>\n",
              "      <th>goout</th>\n",
              "      <th>Dalc</th>\n",
              "      <th>Walc</th>\n",
              "      <th>health</th>\n",
              "      <th>absences</th>\n",
              "      <th>school_GP</th>\n",
              "      <th>school_MS</th>\n",
              "      <th>sex_F</th>\n",
              "      <th>sex_M</th>\n",
              "      <th>address_R</th>\n",
              "      <th>address_U</th>\n",
              "      <th>famsize_GT3</th>\n",
              "      <th>famsize_LE3</th>\n",
              "      <th>Pstatus_A</th>\n",
              "      <th>Pstatus_T</th>\n",
              "      <th>Mjob_at_home</th>\n",
              "      <th>Mjob_health</th>\n",
              "      <th>Mjob_other</th>\n",
              "      <th>Mjob_services</th>\n",
              "      <th>Mjob_teacher</th>\n",
              "      <th>Fjob_at_home</th>\n",
              "      <th>Fjob_health</th>\n",
              "      <th>Fjob_other</th>\n",
              "      <th>Fjob_services</th>\n",
              "      <th>Fjob_teacher</th>\n",
              "      <th>reason_course</th>\n",
              "      <th>reason_home</th>\n",
              "      <th>reason_other</th>\n",
              "      <th>reason_reputation</th>\n",
              "      <th>guardian_father</th>\n",
              "      <th>guardian_mother</th>\n",
              "      <th>guardian_other</th>\n",
              "      <th>schoolsup_no</th>\n",
              "      <th>schoolsup_yes</th>\n",
              "      <th>famsup_no</th>\n",
              "      <th>famsup_yes</th>\n",
              "      <th>paid_no</th>\n",
              "      <th>paid_yes</th>\n",
              "      <th>activities_no</th>\n",
              "      <th>activities_yes</th>\n",
              "      <th>nursery_no</th>\n",
              "      <th>nursery_yes</th>\n",
              "      <th>higher_no</th>\n",
              "      <th>higher_yes</th>\n",
              "      <th>internet_no</th>\n",
              "      <th>internet_yes</th>\n",
              "      <th>romantic_no</th>\n",
              "      <th>romantic_yes</th>\n",
              "    </tr>\n",
              "  </thead>\n",
              "  <tbody>\n",
              "    <tr>\n",
              "      <th>935</th>\n",
              "      <td>0.285714</td>\n",
              "      <td>0.75</td>\n",
              "      <td>0.5</td>\n",
              "      <td>0.333333</td>\n",
              "      <td>0.000000</td>\n",
              "      <td>0.000000</td>\n",
              "      <td>0.75</td>\n",
              "      <td>0.50</td>\n",
              "      <td>0.50</td>\n",
              "      <td>0.25</td>\n",
              "      <td>0.25</td>\n",
              "      <td>0.00</td>\n",
              "      <td>0.066667</td>\n",
              "      <td>0</td>\n",
              "      <td>1</td>\n",
              "      <td>1</td>\n",
              "      <td>0</td>\n",
              "      <td>0</td>\n",
              "      <td>1</td>\n",
              "      <td>1</td>\n",
              "      <td>0</td>\n",
              "      <td>0</td>\n",
              "      <td>1</td>\n",
              "      <td>1</td>\n",
              "      <td>0</td>\n",
              "      <td>0</td>\n",
              "      <td>0</td>\n",
              "      <td>0</td>\n",
              "      <td>0</td>\n",
              "      <td>0</td>\n",
              "      <td>1</td>\n",
              "      <td>0</td>\n",
              "      <td>0</td>\n",
              "      <td>0</td>\n",
              "      <td>1</td>\n",
              "      <td>0</td>\n",
              "      <td>0</td>\n",
              "      <td>0</td>\n",
              "      <td>1</td>\n",
              "      <td>0</td>\n",
              "      <td>1</td>\n",
              "      <td>0</td>\n",
              "      <td>1</td>\n",
              "      <td>0</td>\n",
              "      <td>1</td>\n",
              "      <td>0</td>\n",
              "      <td>1</td>\n",
              "      <td>0</td>\n",
              "      <td>0</td>\n",
              "      <td>1</td>\n",
              "      <td>0</td>\n",
              "      <td>1</td>\n",
              "      <td>1</td>\n",
              "      <td>0</td>\n",
              "      <td>0</td>\n",
              "      <td>1</td>\n",
              "    </tr>\n",
              "    <tr>\n",
              "      <th>424</th>\n",
              "      <td>0.142857</td>\n",
              "      <td>1.00</td>\n",
              "      <td>1.0</td>\n",
              "      <td>0.000000</td>\n",
              "      <td>0.333333</td>\n",
              "      <td>0.000000</td>\n",
              "      <td>0.75</td>\n",
              "      <td>0.75</td>\n",
              "      <td>1.00</td>\n",
              "      <td>1.00</td>\n",
              "      <td>1.00</td>\n",
              "      <td>1.00</td>\n",
              "      <td>0.053333</td>\n",
              "      <td>1</td>\n",
              "      <td>0</td>\n",
              "      <td>0</td>\n",
              "      <td>1</td>\n",
              "      <td>0</td>\n",
              "      <td>1</td>\n",
              "      <td>1</td>\n",
              "      <td>0</td>\n",
              "      <td>0</td>\n",
              "      <td>1</td>\n",
              "      <td>0</td>\n",
              "      <td>0</td>\n",
              "      <td>0</td>\n",
              "      <td>0</td>\n",
              "      <td>1</td>\n",
              "      <td>0</td>\n",
              "      <td>0</td>\n",
              "      <td>0</td>\n",
              "      <td>0</td>\n",
              "      <td>1</td>\n",
              "      <td>0</td>\n",
              "      <td>1</td>\n",
              "      <td>0</td>\n",
              "      <td>0</td>\n",
              "      <td>0</td>\n",
              "      <td>1</td>\n",
              "      <td>0</td>\n",
              "      <td>1</td>\n",
              "      <td>0</td>\n",
              "      <td>0</td>\n",
              "      <td>1</td>\n",
              "      <td>0</td>\n",
              "      <td>1</td>\n",
              "      <td>0</td>\n",
              "      <td>1</td>\n",
              "      <td>0</td>\n",
              "      <td>1</td>\n",
              "      <td>0</td>\n",
              "      <td>1</td>\n",
              "      <td>0</td>\n",
              "      <td>1</td>\n",
              "      <td>0</td>\n",
              "      <td>1</td>\n",
              "    </tr>\n",
              "    <tr>\n",
              "      <th>529</th>\n",
              "      <td>0.285714</td>\n",
              "      <td>0.50</td>\n",
              "      <td>0.5</td>\n",
              "      <td>0.000000</td>\n",
              "      <td>0.000000</td>\n",
              "      <td>0.000000</td>\n",
              "      <td>0.50</td>\n",
              "      <td>0.75</td>\n",
              "      <td>0.75</td>\n",
              "      <td>0.00</td>\n",
              "      <td>0.50</td>\n",
              "      <td>1.00</td>\n",
              "      <td>0.026667</td>\n",
              "      <td>1</td>\n",
              "      <td>0</td>\n",
              "      <td>1</td>\n",
              "      <td>0</td>\n",
              "      <td>0</td>\n",
              "      <td>1</td>\n",
              "      <td>0</td>\n",
              "      <td>1</td>\n",
              "      <td>0</td>\n",
              "      <td>1</td>\n",
              "      <td>0</td>\n",
              "      <td>0</td>\n",
              "      <td>1</td>\n",
              "      <td>0</td>\n",
              "      <td>0</td>\n",
              "      <td>0</td>\n",
              "      <td>0</td>\n",
              "      <td>1</td>\n",
              "      <td>0</td>\n",
              "      <td>0</td>\n",
              "      <td>1</td>\n",
              "      <td>0</td>\n",
              "      <td>0</td>\n",
              "      <td>0</td>\n",
              "      <td>1</td>\n",
              "      <td>0</td>\n",
              "      <td>0</td>\n",
              "      <td>1</td>\n",
              "      <td>0</td>\n",
              "      <td>0</td>\n",
              "      <td>1</td>\n",
              "      <td>1</td>\n",
              "      <td>0</td>\n",
              "      <td>1</td>\n",
              "      <td>0</td>\n",
              "      <td>0</td>\n",
              "      <td>1</td>\n",
              "      <td>0</td>\n",
              "      <td>1</td>\n",
              "      <td>0</td>\n",
              "      <td>1</td>\n",
              "      <td>0</td>\n",
              "      <td>1</td>\n",
              "    </tr>\n",
              "    <tr>\n",
              "      <th>595</th>\n",
              "      <td>0.142857</td>\n",
              "      <td>0.25</td>\n",
              "      <td>0.5</td>\n",
              "      <td>0.000000</td>\n",
              "      <td>0.000000</td>\n",
              "      <td>0.000000</td>\n",
              "      <td>0.50</td>\n",
              "      <td>0.50</td>\n",
              "      <td>0.50</td>\n",
              "      <td>0.00</td>\n",
              "      <td>0.25</td>\n",
              "      <td>0.50</td>\n",
              "      <td>0.000000</td>\n",
              "      <td>1</td>\n",
              "      <td>0</td>\n",
              "      <td>0</td>\n",
              "      <td>1</td>\n",
              "      <td>0</td>\n",
              "      <td>1</td>\n",
              "      <td>1</td>\n",
              "      <td>0</td>\n",
              "      <td>0</td>\n",
              "      <td>1</td>\n",
              "      <td>0</td>\n",
              "      <td>0</td>\n",
              "      <td>0</td>\n",
              "      <td>1</td>\n",
              "      <td>0</td>\n",
              "      <td>0</td>\n",
              "      <td>0</td>\n",
              "      <td>0</td>\n",
              "      <td>1</td>\n",
              "      <td>0</td>\n",
              "      <td>0</td>\n",
              "      <td>0</td>\n",
              "      <td>1</td>\n",
              "      <td>0</td>\n",
              "      <td>0</td>\n",
              "      <td>1</td>\n",
              "      <td>0</td>\n",
              "      <td>1</td>\n",
              "      <td>0</td>\n",
              "      <td>0</td>\n",
              "      <td>1</td>\n",
              "      <td>1</td>\n",
              "      <td>0</td>\n",
              "      <td>0</td>\n",
              "      <td>1</td>\n",
              "      <td>0</td>\n",
              "      <td>1</td>\n",
              "      <td>0</td>\n",
              "      <td>1</td>\n",
              "      <td>0</td>\n",
              "      <td>1</td>\n",
              "      <td>0</td>\n",
              "      <td>1</td>\n",
              "    </tr>\n",
              "    <tr>\n",
              "      <th>390</th>\n",
              "      <td>0.714286</td>\n",
              "      <td>0.50</td>\n",
              "      <td>0.5</td>\n",
              "      <td>0.000000</td>\n",
              "      <td>0.333333</td>\n",
              "      <td>0.666667</td>\n",
              "      <td>1.00</td>\n",
              "      <td>1.00</td>\n",
              "      <td>0.75</td>\n",
              "      <td>0.75</td>\n",
              "      <td>1.00</td>\n",
              "      <td>0.75</td>\n",
              "      <td>0.146667</td>\n",
              "      <td>0</td>\n",
              "      <td>1</td>\n",
              "      <td>0</td>\n",
              "      <td>1</td>\n",
              "      <td>0</td>\n",
              "      <td>1</td>\n",
              "      <td>0</td>\n",
              "      <td>1</td>\n",
              "      <td>1</td>\n",
              "      <td>0</td>\n",
              "      <td>0</td>\n",
              "      <td>0</td>\n",
              "      <td>0</td>\n",
              "      <td>1</td>\n",
              "      <td>0</td>\n",
              "      <td>0</td>\n",
              "      <td>0</td>\n",
              "      <td>0</td>\n",
              "      <td>1</td>\n",
              "      <td>0</td>\n",
              "      <td>1</td>\n",
              "      <td>0</td>\n",
              "      <td>0</td>\n",
              "      <td>0</td>\n",
              "      <td>0</td>\n",
              "      <td>0</td>\n",
              "      <td>1</td>\n",
              "      <td>1</td>\n",
              "      <td>0</td>\n",
              "      <td>0</td>\n",
              "      <td>1</td>\n",
              "      <td>0</td>\n",
              "      <td>1</td>\n",
              "      <td>1</td>\n",
              "      <td>0</td>\n",
              "      <td>0</td>\n",
              "      <td>1</td>\n",
              "      <td>0</td>\n",
              "      <td>1</td>\n",
              "      <td>1</td>\n",
              "      <td>0</td>\n",
              "      <td>1</td>\n",
              "      <td>0</td>\n",
              "    </tr>\n",
              "  </tbody>\n",
              "</table>\n",
              "</div>"
            ],
            "text/plain": [
              "          age  Medu  Fedu  ...  internet_yes  romantic_no  romantic_yes\n",
              "935  0.285714  0.75   0.5  ...             0            0             1\n",
              "424  0.142857  1.00   1.0  ...             1            0             1\n",
              "529  0.285714  0.50   0.5  ...             1            0             1\n",
              "595  0.142857  0.25   0.5  ...             1            0             1\n",
              "390  0.714286  0.50   0.5  ...             0            1             0\n",
              "\n",
              "[5 rows x 56 columns]"
            ]
          },
          "metadata": {
            "tags": []
          },
          "execution_count": 891
        }
      ]
    },
    {
      "cell_type": "code",
      "metadata": {
        "id": "ZvsVSGqdU4aW",
        "colab_type": "code",
        "colab": {
          "base_uri": "https://localhost:8080/",
          "height": 243
        },
        "outputId": "235fd8f5-2415-4695-9396-bb3c07eac46f"
      },
      "source": [
        "y_train.astype(\"category\")"
      ],
      "execution_count": 892,
      "outputs": [
        {
          "output_type": "execute_result",
          "data": {
            "text/plain": [
              "935    1\n",
              "424    1\n",
              "529    1\n",
              "595    1\n",
              "390    0\n",
              "      ..\n",
              "87     1\n",
              "330    0\n",
              "466    1\n",
              "121    1\n",
              "860    0\n",
              "Name: G3, Length: 699, dtype: category\n",
              "Categories (2, int64): [0, 1]"
            ]
          },
          "metadata": {
            "tags": []
          },
          "execution_count": 892
        }
      ]
    },
    {
      "cell_type": "code",
      "metadata": {
        "id": "Zt6bZti0cq0s",
        "colab_type": "code",
        "colab": {
          "base_uri": "https://localhost:8080/",
          "height": 69
        },
        "outputId": "96069109-1816-48a0-fb37-c36d71a7c0d8"
      },
      "source": [
        "y_test.value_counts()"
      ],
      "execution_count": 893,
      "outputs": [
        {
          "output_type": "execute_result",
          "data": {
            "text/plain": [
              "1    256\n",
              "0     89\n",
              "Name: G3, dtype: int64"
            ]
          },
          "metadata": {
            "tags": []
          },
          "execution_count": 893
        }
      ]
    },
    {
      "cell_type": "markdown",
      "metadata": {
        "id": "PLigwgYX7EHL",
        "colab_type": "text"
      },
      "source": [
        "## Model Selection"
      ]
    },
    {
      "cell_type": "code",
      "metadata": {
        "id": "w6IiucvmSzKT",
        "colab_type": "code",
        "colab": {
          "base_uri": "https://localhost:8080/",
          "height": 312
        },
        "outputId": "ee902e7b-d7eb-461a-eacc-1e0fe1af352b"
      },
      "source": [
        "print(X_train.shape)\n",
        "model  = tf.keras.Sequential()\n",
        "model.add(tf.keras.layers.Flatten(input_shape=(56,)))\n",
        "model.add(tf.keras.layers.Dense(28,activation=\"swish\"))\n",
        "model.add(tf.keras.layers.Dense(7,activation=\"swish\"))\n",
        "model.add(tf.keras.layers.Dense(2,activation=\"softmax\"))\n",
        "\n",
        "model.compile(loss=\"binary_crossentropy\",optimizer=\"adam\",metrics=[\"accuracy\"])\n",
        "model.summary()"
      ],
      "execution_count": 894,
      "outputs": [
        {
          "output_type": "stream",
          "text": [
            "(699, 56)\n",
            "Model: \"sequential_56\"\n",
            "_________________________________________________________________\n",
            "Layer (type)                 Output Shape              Param #   \n",
            "=================================================================\n",
            "flatten_47 (Flatten)         (None, 56)                0         \n",
            "_________________________________________________________________\n",
            "dense_188 (Dense)            (None, 28)                1596      \n",
            "_________________________________________________________________\n",
            "dense_189 (Dense)            (None, 7)                 203       \n",
            "_________________________________________________________________\n",
            "dense_190 (Dense)            (None, 2)                 16        \n",
            "=================================================================\n",
            "Total params: 1,815\n",
            "Trainable params: 1,815\n",
            "Non-trainable params: 0\n",
            "_________________________________________________________________\n"
          ],
          "name": "stdout"
        }
      ]
    },
    {
      "cell_type": "code",
      "metadata": {
        "id": "Tdp1nJkGUibI",
        "colab_type": "code",
        "colab": {
          "base_uri": "https://localhost:8080/",
          "height": 1000
        },
        "outputId": "a9f20625-4e03-4f76-b99e-60600a53a773"
      },
      "source": [
        "y_train=tf.keras.utils.to_categorical(y_train,2)\n",
        "history = model.fit(X_train,y_train,epochs=30)"
      ],
      "execution_count": 895,
      "outputs": [
        {
          "output_type": "stream",
          "text": [
            "Epoch 1/30\n",
            "22/22 [==============================] - 0s 1ms/step - loss: 0.6546 - accuracy: 0.6266\n",
            "Epoch 2/30\n",
            "22/22 [==============================] - 0s 1ms/step - loss: 0.5255 - accuracy: 0.7969\n",
            "Epoch 3/30\n",
            "22/22 [==============================] - 0s 1ms/step - loss: 0.5075 - accuracy: 0.7969\n",
            "Epoch 4/30\n",
            "22/22 [==============================] - 0s 1ms/step - loss: 0.4930 - accuracy: 0.7969\n",
            "Epoch 5/30\n",
            "22/22 [==============================] - 0s 2ms/step - loss: 0.4810 - accuracy: 0.7969\n",
            "Epoch 6/30\n",
            "22/22 [==============================] - 0s 1ms/step - loss: 0.4700 - accuracy: 0.7969\n",
            "Epoch 7/30\n",
            "22/22 [==============================] - 0s 1ms/step - loss: 0.4602 - accuracy: 0.7969\n",
            "Epoch 8/30\n",
            "22/22 [==============================] - 0s 1ms/step - loss: 0.4517 - accuracy: 0.7954\n",
            "Epoch 9/30\n",
            "22/22 [==============================] - 0s 1ms/step - loss: 0.4428 - accuracy: 0.8011\n",
            "Epoch 10/30\n",
            "22/22 [==============================] - 0s 1ms/step - loss: 0.4343 - accuracy: 0.8097\n",
            "Epoch 11/30\n",
            "22/22 [==============================] - 0s 1ms/step - loss: 0.4275 - accuracy: 0.8097\n",
            "Epoch 12/30\n",
            "22/22 [==============================] - 0s 1ms/step - loss: 0.4216 - accuracy: 0.8083\n",
            "Epoch 13/30\n",
            "22/22 [==============================] - 0s 1ms/step - loss: 0.4179 - accuracy: 0.8140\n",
            "Epoch 14/30\n",
            "22/22 [==============================] - 0s 1ms/step - loss: 0.4112 - accuracy: 0.8212\n",
            "Epoch 15/30\n",
            "22/22 [==============================] - 0s 1ms/step - loss: 0.4103 - accuracy: 0.8240\n",
            "Epoch 16/30\n",
            "22/22 [==============================] - 0s 1ms/step - loss: 0.4051 - accuracy: 0.8240\n",
            "Epoch 17/30\n",
            "22/22 [==============================] - 0s 1ms/step - loss: 0.4049 - accuracy: 0.8183\n",
            "Epoch 18/30\n",
            "22/22 [==============================] - 0s 1ms/step - loss: 0.4035 - accuracy: 0.8283\n",
            "Epoch 19/30\n",
            "22/22 [==============================] - 0s 1ms/step - loss: 0.3964 - accuracy: 0.8340\n",
            "Epoch 20/30\n",
            "22/22 [==============================] - 0s 1ms/step - loss: 0.3941 - accuracy: 0.8283\n",
            "Epoch 21/30\n",
            "22/22 [==============================] - 0s 1ms/step - loss: 0.3904 - accuracy: 0.8326\n",
            "Epoch 22/30\n",
            "22/22 [==============================] - 0s 1ms/step - loss: 0.3873 - accuracy: 0.8298\n",
            "Epoch 23/30\n",
            "22/22 [==============================] - 0s 1ms/step - loss: 0.3853 - accuracy: 0.8226\n",
            "Epoch 24/30\n",
            "22/22 [==============================] - 0s 1ms/step - loss: 0.3817 - accuracy: 0.8326\n",
            "Epoch 25/30\n",
            "22/22 [==============================] - 0s 1ms/step - loss: 0.3822 - accuracy: 0.8283\n",
            "Epoch 26/30\n",
            "22/22 [==============================] - 0s 1ms/step - loss: 0.3773 - accuracy: 0.8283\n",
            "Epoch 27/30\n",
            "22/22 [==============================] - 0s 1ms/step - loss: 0.3769 - accuracy: 0.8312\n",
            "Epoch 28/30\n",
            "22/22 [==============================] - 0s 1ms/step - loss: 0.3764 - accuracy: 0.8369\n",
            "Epoch 29/30\n",
            "22/22 [==============================] - 0s 1ms/step - loss: 0.3750 - accuracy: 0.8383\n",
            "Epoch 30/30\n",
            "22/22 [==============================] - 0s 1ms/step - loss: 0.3683 - accuracy: 0.8426\n"
          ],
          "name": "stdout"
        }
      ]
    },
    {
      "cell_type": "code",
      "metadata": {
        "id": "5AmlDtEwWchy",
        "colab_type": "code",
        "colab": {
          "base_uri": "https://localhost:8080/",
          "height": 173
        },
        "outputId": "3d299244-bb6a-4f84-fe6d-9784536f6723"
      },
      "source": [
        "from sklearn.metrics import classification_report\n",
        "print(classification_report(y_test,model.predict_classes(X_test)))"
      ],
      "execution_count": 896,
      "outputs": [
        {
          "output_type": "stream",
          "text": [
            "              precision    recall  f1-score   support\n",
            "\n",
            "           0       0.67      0.33      0.44        89\n",
            "           1       0.80      0.95      0.87       256\n",
            "\n",
            "    accuracy                           0.79       345\n",
            "   macro avg       0.74      0.64      0.65       345\n",
            "weighted avg       0.77      0.79      0.76       345\n",
            "\n"
          ],
          "name": "stdout"
        }
      ]
    },
    {
      "cell_type": "code",
      "metadata": {
        "id": "PGWVBWRthFmm",
        "colab_type": "code",
        "colab": {
          "base_uri": "https://localhost:8080/",
          "height": 283
        },
        "outputId": "44d6a6cb-dc2d-4783-e96b-5c3895e9e41b"
      },
      "source": [
        "from sklearn.metrics import confusion_matrix\n",
        "\n",
        "con = confusion_matrix(y_test,model.predict_classes(X_test))\n",
        "sns.heatmap(con)"
      ],
      "execution_count": 897,
      "outputs": [
        {
          "output_type": "execute_result",
          "data": {
            "text/plain": [
              "<matplotlib.axes._subplots.AxesSubplot at 0x7fa9208e40b8>"
            ]
          },
          "metadata": {
            "tags": []
          },
          "execution_count": 897
        },
        {
          "output_type": "display_data",
          "data": {
            "image/png": "[encoded data removed]",
            "text/plain": [
              "<Figure size 432x288 with 2 Axes>"
            ]
          },
          "metadata": {
            "tags": [],
            "needs_background": "light"
          }
        }
      ]
    }
  ]
}