{
  "nbformat": 4,
  "nbformat_minor": 0,
  "metadata": {
    "colab": {
      "name": "Pokemon.ipynb",
      "provenance": [],
      "toc_visible": true
    },
    "kernelspec": {
      "name": "python3",
      "display_name": "Python 3"
    }
  },
  "cells": [
    {
      "cell_type": "markdown",
      "metadata": {
        "id": "5EkRUPdhAIms",
        "colab_type": "text"
      },
      "source": [
        "# Pokemon Type Classification using Image"
      ]
    },
    {
      "cell_type": "code",
      "metadata": {
        "id": "bXqTsXHkAF9V",
        "colab_type": "code",
        "colab": {
          "base_uri": "https://localhost:8080/",
          "height": 55
        },
        "outputId": "183fb94e-e95e-414a-f5fa-576b7219b0d5"
      },
      "source": [
        "from google.colab import drive\n",
        "drive.mount(\"gdrive\")"
      ],
      "execution_count": 26,
      "outputs": [
        {
          "output_type": "stream",
          "text": [
            "Drive already mounted at gdrive; to attempt to forcibly remount, call drive.mount(\"gdrive\", force_remount=True).\n"
          ],
          "name": "stdout"
        }
      ]
    },
    {
      "cell_type": "markdown",
      "metadata": {
        "id": "6Mth1g_LAfjq",
        "colab_type": "text"
      },
      "source": [
        "##Import necessary libraries."
      ]
    },
    {
      "cell_type": "code",
      "metadata": {
        "id": "IeTz2ZMEAjlE",
        "colab_type": "code",
        "colab": {}
      },
      "source": [
        "import pandas as pd \n",
        "import seaborn as sns\n",
        "import matplotlib.pyplot as plt\n",
        "import numpy as np\n",
        "from shutil import copyfile, copy2,rmtree\n",
        "\n",
        "\n",
        "import tensorflow as tf\n",
        "import cv2\n",
        "import os\n",
        "from os import listdir\n",
        "from os.path import isfile, join\n",
        "from sklearn.metrics import RocCurveDisplay,classification_report,confusion_matrix\n",
        "from sklearn.model_selection import train_test_split"
      ],
      "execution_count": 27,
      "outputs": []
    },
    {
      "cell_type": "markdown",
      "metadata": {
        "id": "krqq5eKvA_qe",
        "colab_type": "text"
      },
      "source": [
        "## Read the structured data regarding on the images."
      ]
    },
    {
      "cell_type": "code",
      "metadata": {
        "id": "HDLOpiN1A--l",
        "colab_type": "code",
        "colab": {}
      },
      "source": [
        "df = pd.read_csv(\"/content/gdrive/My Drive/DataAnalysis/Pokemon/pokemon.csv\")"
      ],
      "execution_count": 28,
      "outputs": []
    },
    {
      "cell_type": "code",
      "metadata": {
        "id": "s-Mo388wBSAN",
        "colab_type": "code",
        "colab": {
          "base_uri": "https://localhost:8080/",
          "height": 415
        },
        "outputId": "e5532896-9045-41db-961d-0e50a9d54377"
      },
      "source": [
        "df.head(-1)"
      ],
      "execution_count": 29,
      "outputs": [
        {
          "output_type": "execute_result",
          "data": {
            "text/html": [
              "<div>\n",
              "<style scoped>\n",
              "    .dataframe tbody tr th:only-of-type {\n",
              "        vertical-align: middle;\n",
              "    }\n",
              "\n",
              "    .dataframe tbody tr th {\n",
              "        vertical-align: top;\n",
              "    }\n",
              "\n",
              "    .dataframe thead th {\n",
              "        text-align: right;\n",
              "    }\n",
              "</style>\n",
              "<table border=\"1\" class=\"dataframe\">\n",
              "  <thead>\n",
              "    <tr style=\"text-align: right;\">\n",
              "      <th></th>\n",
              "      <th>Name</th>\n",
              "      <th>Type1</th>\n",
              "      <th>Type2</th>\n",
              "    </tr>\n",
              "  </thead>\n",
              "  <tbody>\n",
              "    <tr>\n",
              "      <th>0</th>\n",
              "      <td>bulbasaur</td>\n",
              "      <td>Grass</td>\n",
              "      <td>Poison</td>\n",
              "    </tr>\n",
              "    <tr>\n",
              "      <th>1</th>\n",
              "      <td>ivysaur</td>\n",
              "      <td>Grass</td>\n",
              "      <td>Poison</td>\n",
              "    </tr>\n",
              "    <tr>\n",
              "      <th>2</th>\n",
              "      <td>venusaur</td>\n",
              "      <td>Grass</td>\n",
              "      <td>Poison</td>\n",
              "    </tr>\n",
              "    <tr>\n",
              "      <th>3</th>\n",
              "      <td>charmander</td>\n",
              "      <td>Fire</td>\n",
              "      <td>NaN</td>\n",
              "    </tr>\n",
              "    <tr>\n",
              "      <th>4</th>\n",
              "      <td>charmeleon</td>\n",
              "      <td>Fire</td>\n",
              "      <td>NaN</td>\n",
              "    </tr>\n",
              "    <tr>\n",
              "      <th>...</th>\n",
              "      <td>...</td>\n",
              "      <td>...</td>\n",
              "      <td>...</td>\n",
              "    </tr>\n",
              "    <tr>\n",
              "      <th>803</th>\n",
              "      <td>naganadel</td>\n",
              "      <td>Poison</td>\n",
              "      <td>Dragon</td>\n",
              "    </tr>\n",
              "    <tr>\n",
              "      <th>804</th>\n",
              "      <td>stakataka</td>\n",
              "      <td>Rock</td>\n",
              "      <td>Steel</td>\n",
              "    </tr>\n",
              "    <tr>\n",
              "      <th>805</th>\n",
              "      <td>blacephalon</td>\n",
              "      <td>Fire</td>\n",
              "      <td>Ghost</td>\n",
              "    </tr>\n",
              "    <tr>\n",
              "      <th>806</th>\n",
              "      <td>zeraora</td>\n",
              "      <td>Electric</td>\n",
              "      <td>NaN</td>\n",
              "    </tr>\n",
              "    <tr>\n",
              "      <th>807</th>\n",
              "      <td>meltan</td>\n",
              "      <td>Steel</td>\n",
              "      <td>NaN</td>\n",
              "    </tr>\n",
              "  </tbody>\n",
              "</table>\n",
              "<p>808 rows × 3 columns</p>\n",
              "</div>"
            ],
            "text/plain": [
              "            Name     Type1   Type2\n",
              "0      bulbasaur     Grass  Poison\n",
              "1        ivysaur     Grass  Poison\n",
              "2       venusaur     Grass  Poison\n",
              "3     charmander      Fire     NaN\n",
              "4     charmeleon      Fire     NaN\n",
              "..           ...       ...     ...\n",
              "803    naganadel    Poison  Dragon\n",
              "804    stakataka      Rock   Steel\n",
              "805  blacephalon      Fire   Ghost\n",
              "806      zeraora  Electric     NaN\n",
              "807       meltan     Steel     NaN\n",
              "\n",
              "[808 rows x 3 columns]"
            ]
          },
          "metadata": {
            "tags": []
          },
          "execution_count": 29
        }
      ]
    },
    {
      "cell_type": "markdown",
      "metadata": {
        "id": "Jw0K2yqFBYbw",
        "colab_type": "text"
      },
      "source": [
        "As we Pokemon fans know some pokemons only contain one Type which can be a little problematic for some built-in models that we are going to use."
      ]
    },
    {
      "cell_type": "markdown",
      "metadata": {
        "id": "urDYEAvgCGyA",
        "colab_type": "text"
      },
      "source": [
        "Let's get filenames regarding on the images."
      ]
    },
    {
      "cell_type": "code",
      "metadata": {
        "id": "7L-u2CHoHFlu",
        "colab_type": "code",
        "colab": {
          "base_uri": "https://localhost:8080/",
          "height": 257
        },
        "outputId": "0bed97e3-d3ef-45ed-970d-96af08c3d9a7"
      },
      "source": [
        "DIR_IMAGE = \"/content/gdrive/My Drive/DataAnalysis/Pokemon/images/images\" \n",
        "FILEs=[] \n",
        "for file in listdir(DIR_IMAGE): \n",
        "  if(isfile(join(DIR_IMAGE,file))): \n",
        "    FILEs.append(file)\n",
        "df[\"images\"] = pd.Series()\n",
        "new = pd.DataFrame()\n",
        "for FILE in FILEs:\n",
        "  POK_NAME = FILE[:-4]\n",
        "  df.loc[df['Name'] == POK_NAME,\"images\"]=FILE\n",
        "df.head()"
      ],
      "execution_count": 30,
      "outputs": [
        {
          "output_type": "stream",
          "text": [
            "/usr/local/lib/python3.6/dist-packages/ipykernel_launcher.py:6: DeprecationWarning: The default dtype for empty Series will be 'object' instead of 'float64' in a future version. Specify a dtype explicitly to silence this warning.\n",
            "  \n"
          ],
          "name": "stderr"
        },
        {
          "output_type": "execute_result",
          "data": {
            "text/html": [
              "<div>\n",
              "<style scoped>\n",
              "    .dataframe tbody tr th:only-of-type {\n",
              "        vertical-align: middle;\n",
              "    }\n",
              "\n",
              "    .dataframe tbody tr th {\n",
              "        vertical-align: top;\n",
              "    }\n",
              "\n",
              "    .dataframe thead th {\n",
              "        text-align: right;\n",
              "    }\n",
              "</style>\n",
              "<table border=\"1\" class=\"dataframe\">\n",
              "  <thead>\n",
              "    <tr style=\"text-align: right;\">\n",
              "      <th></th>\n",
              "      <th>Name</th>\n",
              "      <th>Type1</th>\n",
              "      <th>Type2</th>\n",
              "      <th>images</th>\n",
              "    </tr>\n",
              "  </thead>\n",
              "  <tbody>\n",
              "    <tr>\n",
              "      <th>0</th>\n",
              "      <td>bulbasaur</td>\n",
              "      <td>Grass</td>\n",
              "      <td>Poison</td>\n",
              "      <td>bulbasaur.png</td>\n",
              "    </tr>\n",
              "    <tr>\n",
              "      <th>1</th>\n",
              "      <td>ivysaur</td>\n",
              "      <td>Grass</td>\n",
              "      <td>Poison</td>\n",
              "      <td>ivysaur.png</td>\n",
              "    </tr>\n",
              "    <tr>\n",
              "      <th>2</th>\n",
              "      <td>venusaur</td>\n",
              "      <td>Grass</td>\n",
              "      <td>Poison</td>\n",
              "      <td>venusaur.png</td>\n",
              "    </tr>\n",
              "    <tr>\n",
              "      <th>3</th>\n",
              "      <td>charmander</td>\n",
              "      <td>Fire</td>\n",
              "      <td>NaN</td>\n",
              "      <td>charmander.png</td>\n",
              "    </tr>\n",
              "    <tr>\n",
              "      <th>4</th>\n",
              "      <td>charmeleon</td>\n",
              "      <td>Fire</td>\n",
              "      <td>NaN</td>\n",
              "      <td>charmeleon.png</td>\n",
              "    </tr>\n",
              "  </tbody>\n",
              "</table>\n",
              "</div>"
            ],
            "text/plain": [
              "         Name  Type1   Type2          images\n",
              "0   bulbasaur  Grass  Poison   bulbasaur.png\n",
              "1     ivysaur  Grass  Poison     ivysaur.png\n",
              "2    venusaur  Grass  Poison    venusaur.png\n",
              "3  charmander   Fire     NaN  charmander.png\n",
              "4  charmeleon   Fire     NaN  charmeleon.png"
            ]
          },
          "metadata": {
            "tags": []
          },
          "execution_count": 30
        }
      ]
    },
    {
      "cell_type": "markdown",
      "metadata": {
        "id": "dpP79eOybSrq",
        "colab_type": "text"
      },
      "source": [
        "### Distribution of pokemons."
      ]
    },
    {
      "cell_type": "code",
      "metadata": {
        "id": "dKXQ06-qbYLZ",
        "colab_type": "code",
        "colab": {
          "base_uri": "https://localhost:8080/",
          "height": 373
        },
        "outputId": "0da8f0c4-a260-4fd5-bb7e-8ac151c2db07"
      },
      "source": [
        "fig = plt.figure(figsize=(15,6))\n",
        "ax=sns.countplot(df.Type1,data=df)"
      ],
      "execution_count": 31,
      "outputs": [
        {
          "output_type": "display_data",
          "data": {
            "image/png": "[encoded data removed]",
            "text/plain": [
              "<Figure size 1080x432 with 1 Axes>"
            ]
          },
          "metadata": {
            "tags": [],
            "needs_background": "light"
          }
        }
      ]
    },
    {
      "cell_type": "code",
      "metadata": {
        "id": "5rzSoptqgwRa",
        "colab_type": "code",
        "colab": {}
      },
      "source": [
        "select = ['Water' , 'Grass']\n",
        "df = df[df['Type1'].isin(select)]"
      ],
      "execution_count": 32,
      "outputs": []
    },
    {
      "cell_type": "markdown",
      "metadata": {
        "id": "wvcFfM0FctrM",
        "colab_type": "text"
      },
      "source": [
        "Let's first try to evaluate on Water and Grass pokemons."
      ]
    },
    {
      "cell_type": "markdown",
      "metadata": {
        "id": "QQrPCoGzIL9y",
        "colab_type": "text"
      },
      "source": [
        "## Data Preprocessing"
      ]
    },
    {
      "cell_type": "code",
      "metadata": {
        "id": "6ITyDEo5dPhs",
        "colab_type": "code",
        "colab": {}
      },
      "source": [
        "rmtree('train/')\n",
        "rmtree('test/')\n",
        "rmtree('val/')\n",
        "os.makedirs('/content/gdrive/My Drive/DataAnalysis/Pokemon/train/',exist_ok=True)\n",
        "os.makedirs('/content/gdrive/My Drive/DataAnalysis/Pokemon/test/',exist_ok=True)\n",
        "os.makedirs('/content/gdrive/My Drive/DataAnalysis/Pokemon/val/',exist_ok=True)\n",
        "for class_ in df['Type1'].unique():\n",
        "    os.makedirs('train/'+str(class_)+'/',exist_ok=True)\n",
        "    os.makedirs('test/'+str(class_)+'/',exist_ok=True)\n",
        "    os.makedirs('val/'+str(class_)+'/',exist_ok=True)"
      ],
      "execution_count": 33,
      "outputs": []
    },
    {
      "cell_type": "markdown",
      "metadata": {
        "id": "aTI4yAfcIEO-",
        "colab_type": "text"
      },
      "source": [
        "Directories for test,train and val data."
      ]
    },
    {
      "cell_type": "code",
      "metadata": {
        "id": "DJjEQH7vevDR",
        "colab_type": "code",
        "colab": {}
      },
      "source": [
        "X_train, X_test, y_train, y_test = train_test_split(\n",
        "    df, df['Type1'],test_size=0.33, stratify=df['Type1'],random_state=42)\n",
        "\n",
        "X_test, X_val, y_test, y_val = train_test_split(X_test, y_test, test_size=0.33,stratify=y_test)"
      ],
      "execution_count": 34,
      "outputs": []
    },
    {
      "cell_type": "code",
      "metadata": {
        "id": "h9uBQJvuhdjA",
        "colab_type": "code",
        "colab": {}
      },
      "source": [
        "for image,type_  in zip(X_train['images'], y_train):\n",
        "    copy2(join(DIR_IMAGE,image), 'train/'+type_)\n",
        "\n",
        "for image,type_ in zip(X_test['images'], y_test):\n",
        "    copy2(join(DIR_IMAGE,image), 'test/'+type_)\n",
        "\n",
        "for image,type_ in zip(X_val['images'], y_val):\n",
        "    copy2(join(DIR_IMAGE,image), 'val/'+type_)"
      ],
      "execution_count": 35,
      "outputs": []
    },
    {
      "cell_type": "code",
      "metadata": {
        "id": "E0qTabTHm3R5",
        "colab_type": "code",
        "colab": {
          "base_uri": "https://localhost:8080/",
          "height": 69
        },
        "outputId": "e4dfd8f6-46bc-498e-c690-1569279780de"
      },
      "source": [
        "from keras.preprocessing.image import ImageDataGenerator\n",
        "datagen = ImageDataGenerator()\n",
        "\n",
        "train = datagen.flow_from_directory('train/')\n",
        "test = datagen.flow_from_directory('test/')\n",
        "val = datagen.flow_from_directory('val/')"
      ],
      "execution_count": 36,
      "outputs": [
        {
          "output_type": "stream",
          "text": [
            "Found 128 images belonging to 2 classes.\n",
            "Found 42 images belonging to 2 classes.\n",
            "Found 22 images belonging to 2 classes.\n"
          ],
          "name": "stdout"
        }
      ]
    },
    {
      "cell_type": "markdown",
      "metadata": {
        "id": "Of_EhInRISwy",
        "colab_type": "text"
      },
      "source": [
        "## Swiss Knife:Resnet50"
      ]
    },
    {
      "cell_type": "code",
      "metadata": {
        "id": "0NJtKeG3umso",
        "colab_type": "code",
        "colab": {}
      },
      "source": [
        "#resnet50\n",
        "resnet50 = tf.keras.applications.ResNet50(\n",
        "    include_top=False, weights='imagenet',input_shape= (256,256,3)\n",
        ")\n",
        "for layer in resnet50.layers:\n",
        "    layer.trainable = False"
      ],
      "execution_count": 37,
      "outputs": []
    },
    {
      "cell_type": "code",
      "metadata": {
        "id": "JSUcg8Xb7ZOe",
        "colab_type": "code",
        "colab": {}
      },
      "source": [
        "\n",
        "x = resnet50.output\n",
        "x = tf.keras.layers.GlobalAveragePooling2D()(x)\n",
        "x = tf.keras.layers.Dropout(0.7)(x)\n",
        "predictions = tf.keras.layers.Dense(2, activation= 'softmax')(x)\n",
        "model = tf.keras.Model(inputs = resnet50.input, outputs = predictions)"
      ],
      "execution_count": 38,
      "outputs": []
    },
    {
      "cell_type": "code",
      "metadata": {
        "id": "3XikDk3s79Hq",
        "colab_type": "code",
        "colab": {}
      },
      "source": [
        "model.compile(loss='categorical_crossentropy',\n",
        "              optimizer=\"adam\",\n",
        "              metrics=['accuracy'])"
      ],
      "execution_count": 39,
      "outputs": []
    },
    {
      "cell_type": "code",
      "metadata": {
        "id": "JC5omC9T8BEg",
        "colab_type": "code",
        "colab": {
          "base_uri": "https://localhost:8080/",
          "height": 245
        },
        "outputId": "87f7f421-f5d2-4dc2-db00-1027623cca21"
      },
      "source": [
        "history = model.fit_generator(train,\n",
        "                              epochs=5,\n",
        "                              validation_data=val\n",
        "                             )"
      ],
      "execution_count": 40,
      "outputs": [
        {
          "output_type": "stream",
          "text": [
            "/usr/local/lib/python3.6/dist-packages/PIL/Image.py:932: UserWarning: Palette images with Transparency expressed in bytes should be converted to RGBA images\n",
            "  \"Palette images with Transparency expressed in bytes should be \"\n"
          ],
          "name": "stderr"
        },
        {
          "output_type": "stream",
          "text": [
            "Epoch 1/5\n",
            "4/4 [==============================] - 27s 7s/step - loss: 1.5204 - accuracy: 0.5000 - val_loss: 0.8437 - val_accuracy: 0.5455\n",
            "Epoch 2/5\n",
            "4/4 [==============================] - 22s 6s/step - loss: 1.0697 - accuracy: 0.5938 - val_loss: 0.7640 - val_accuracy: 0.6364\n",
            "Epoch 3/5\n",
            "4/4 [==============================] - 22s 6s/step - loss: 0.9063 - accuracy: 0.6797 - val_loss: 0.6338 - val_accuracy: 0.6818\n",
            "Epoch 4/5\n",
            "4/4 [==============================] - 22s 6s/step - loss: 1.0709 - accuracy: 0.6016 - val_loss: 0.5624 - val_accuracy: 0.7273\n",
            "Epoch 5/5\n",
            "4/4 [==============================] - 23s 6s/step - loss: 0.9370 - accuracy: 0.5859 - val_loss: 0.5509 - val_accuracy: 0.6818\n"
          ],
          "name": "stdout"
        }
      ]
    },
    {
      "cell_type": "code",
      "metadata": {
        "id": "g8uC3P1Iuck4",
        "colab_type": "code",
        "colab": {
          "base_uri": "https://localhost:8080/",
          "height": 228
        },
        "outputId": "556616f7-4b2d-4efa-a491-5ad41fdfe23b"
      },
      "source": [
        "predict_frame = pd.DataFrame([])\n",
        "predict = model.predict_generator(test)\n",
        "predict_frame['category'] = np.argmax(predict, axis=-1)\n",
        "labels = dict((v,k) for k,v in val.class_indices.items())\n",
        "predict_frame['category'] = predict_frame['category'].replace(labels)\n",
        "print(classification_report(y_test, predict_frame['category']))"
      ],
      "execution_count": 41,
      "outputs": [
        {
          "output_type": "stream",
          "text": [
            "/usr/local/lib/python3.6/dist-packages/PIL/Image.py:932: UserWarning: Palette images with Transparency expressed in bytes should be converted to RGBA images\n",
            "  \"Palette images with Transparency expressed in bytes should be \"\n"
          ],
          "name": "stderr"
        },
        {
          "output_type": "stream",
          "text": [
            "              precision    recall  f1-score   support\n",
            "\n",
            "       Grass       0.60      0.18      0.27        17\n",
            "       Water       0.62      0.92      0.74        25\n",
            "\n",
            "    accuracy                           0.62        42\n",
            "   macro avg       0.61      0.55      0.51        42\n",
            "weighted avg       0.61      0.62      0.55        42\n",
            "\n"
          ],
          "name": "stdout"
        }
      ]
    },
    {
      "cell_type": "markdown",
      "metadata": {
        "id": "KKynuXMrIarM",
        "colab_type": "text"
      },
      "source": [
        "Channels regarding on the two distributed data causes the main problem since we can not evaluate a model just from their shapes(Pokemons do not allow us to create a discriminative model by their shapes so edges are not effective as colors).\n",
        "\n"
      ]
    },
    {
      "cell_type": "code",
      "metadata": {
        "id": "yDpWvcemJ3wi",
        "colab_type": "code",
        "colab": {}
      },
      "source": [
        "for image,type_ in zip(X_val['images'], y_val):\n",
        "    copy2('val/'+type_+\"/\"+image,'train/'+type_)"
      ],
      "execution_count": 42,
      "outputs": []
    },
    {
      "cell_type": "code",
      "metadata": {
        "id": "GYvfaQQSKTBI",
        "colab_type": "code",
        "colab": {
          "base_uri": "https://localhost:8080/",
          "height": 35
        },
        "outputId": "8274b7b2-2b3b-42ca-dc50-c7fa716acf63"
      },
      "source": [
        "train = datagen.flow_from_directory('train/')\n"
      ],
      "execution_count": 43,
      "outputs": [
        {
          "output_type": "stream",
          "text": [
            "Found 150 images belonging to 2 classes.\n"
          ],
          "name": "stdout"
        }
      ]
    },
    {
      "cell_type": "code",
      "metadata": {
        "id": "BuaDdj75KXSA",
        "colab_type": "code",
        "colab": {
          "base_uri": "https://localhost:8080/",
          "height": 245
        },
        "outputId": "c3e46064-9571-4f3d-92a6-f7fa644e36e7"
      },
      "source": [
        "history = model.fit_generator(train,\n",
        "                              epochs=5,\n",
        "                             )"
      ],
      "execution_count": 44,
      "outputs": [
        {
          "output_type": "stream",
          "text": [
            "Epoch 1/5\n"
          ],
          "name": "stdout"
        },
        {
          "output_type": "stream",
          "text": [
            "/usr/local/lib/python3.6/dist-packages/PIL/Image.py:932: UserWarning: Palette images with Transparency expressed in bytes should be converted to RGBA images\n",
            "  \"Palette images with Transparency expressed in bytes should be \"\n"
          ],
          "name": "stderr"
        },
        {
          "output_type": "stream",
          "text": [
            "5/5 [==============================] - 22s 4s/step - loss: 0.9193 - accuracy: 0.6533\n",
            "Epoch 2/5\n",
            "5/5 [==============================] - 22s 4s/step - loss: 0.5825 - accuracy: 0.7400\n",
            "Epoch 3/5\n",
            "5/5 [==============================] - 22s 4s/step - loss: 0.6986 - accuracy: 0.6933\n",
            "Epoch 4/5\n",
            "5/5 [==============================] - 24s 5s/step - loss: 0.6592 - accuracy: 0.7333\n",
            "Epoch 5/5\n",
            "5/5 [==============================] - 22s 4s/step - loss: 0.5695 - accuracy: 0.7267\n"
          ],
          "name": "stdout"
        }
      ]
    },
    {
      "cell_type": "code",
      "metadata": {
        "id": "QxXaKDLtLDqv",
        "colab_type": "code",
        "colab": {
          "base_uri": "https://localhost:8080/",
          "height": 228
        },
        "outputId": "5d596ca5-1e3a-4852-b56f-56aefd972b01"
      },
      "source": [
        "predict_frame = pd.DataFrame([])\n",
        "predict = model.predict_generator(test)\n",
        "predict_frame['category'] = np.argmax(predict, axis=-1)\n",
        "labels = dict((v,k) for k,v in val.class_indices.items())\n",
        "predict_frame['category'] = predict_frame['category'].replace(labels)\n",
        "print(classification_report(y_test, predict_frame['category']))"
      ],
      "execution_count": 45,
      "outputs": [
        {
          "output_type": "stream",
          "text": [
            "/usr/local/lib/python3.6/dist-packages/PIL/Image.py:932: UserWarning: Palette images with Transparency expressed in bytes should be converted to RGBA images\n",
            "  \"Palette images with Transparency expressed in bytes should be \"\n"
          ],
          "name": "stderr"
        },
        {
          "output_type": "stream",
          "text": [
            "              precision    recall  f1-score   support\n",
            "\n",
            "       Grass       0.45      0.29      0.36        17\n",
            "       Water       0.61      0.76      0.68        25\n",
            "\n",
            "    accuracy                           0.57        42\n",
            "   macro avg       0.53      0.53      0.52        42\n",
            "weighted avg       0.55      0.57      0.55        42\n",
            "\n"
          ],
          "name": "stdout"
        }
      ]
    },
    {
      "cell_type": "markdown",
      "metadata": {
        "id": "unalV5ceLKHw",
        "colab_type": "text"
      },
      "source": [
        "We are now able to correctly identify 2 pokemons max out of 3 pokemons and only for (Grass vs Fire)."
      ]
    },
    {
      "cell_type": "code",
      "metadata": {
        "id": "OUgPAs6eLqK9",
        "colab_type": "code",
        "colab": {}
      },
      "source": [
        "resnet152 = tf.keras.applications.ResNet152(\n",
        "    include_top=False, weights='imagenet',input_shape= (256,256,3)\n",
        ")\n",
        "for layer in resnet152.layers:\n",
        "    layer.trainable = False"
      ],
      "execution_count": 46,
      "outputs": []
    },
    {
      "cell_type": "code",
      "metadata": {
        "id": "eRJ3ClUsLyBy",
        "colab_type": "code",
        "colab": {}
      },
      "source": [
        "x = resnet152.output\n",
        "x = tf.keras.layers.GlobalAveragePooling2D()(x)\n",
        "x = tf.keras.layers.Dropout(0.7)(x)\n",
        "predictions = tf.keras.layers.Dense(2, activation= 'softmax')(x)\n",
        "model = tf.keras.Model(inputs = resnet152.input, outputs = predictions)"
      ],
      "execution_count": 47,
      "outputs": []
    },
    {
      "cell_type": "code",
      "metadata": {
        "id": "GeCjtcKUL5J7",
        "colab_type": "code",
        "colab": {}
      },
      "source": [
        "model.compile(loss='categorical_crossentropy',\n",
        "              optimizer=\"adam\",\n",
        "              metrics=['accuracy'])"
      ],
      "execution_count": 48,
      "outputs": []
    },
    {
      "cell_type": "code",
      "metadata": {
        "id": "7D_p4S8IL7Yt",
        "colab_type": "code",
        "colab": {
          "base_uri": "https://localhost:8080/",
          "height": 245
        },
        "outputId": "cd506a88-c2a3-4c91-9b21-979e4a84e292"
      },
      "source": [
        "history = model.fit_generator(train,\n",
        "                              epochs=5,\n",
        "                             )"
      ],
      "execution_count": 51,
      "outputs": [
        {
          "output_type": "stream",
          "text": [
            "/usr/local/lib/python3.6/dist-packages/PIL/Image.py:932: UserWarning: Palette images with Transparency expressed in bytes should be converted to RGBA images\n",
            "  \"Palette images with Transparency expressed in bytes should be \"\n"
          ],
          "name": "stderr"
        },
        {
          "output_type": "stream",
          "text": [
            "Epoch 1/5\n",
            "5/5 [==============================] - 62s 12s/step - loss: 0.7059 - accuracy: 0.7200\n",
            "Epoch 2/5\n",
            "5/5 [==============================] - 61s 12s/step - loss: 0.6646 - accuracy: 0.7400\n",
            "Epoch 3/5\n",
            "5/5 [==============================] - 66s 13s/step - loss: 0.5761 - accuracy: 0.7533\n",
            "Epoch 4/5\n",
            "5/5 [==============================] - 61s 12s/step - loss: 0.5318 - accuracy: 0.7733\n",
            "Epoch 5/5\n",
            "5/5 [==============================] - 61s 12s/step - loss: 0.7524 - accuracy: 0.6933\n"
          ],
          "name": "stdout"
        }
      ]
    },
    {
      "cell_type": "code",
      "metadata": {
        "id": "iKM6Z4FgRbaL",
        "colab_type": "code",
        "colab": {
          "base_uri": "https://localhost:8080/",
          "height": 228
        },
        "outputId": "c39dd7e2-3575-44ac-db65-aac892e69804"
      },
      "source": [
        "predict_frame = pd.DataFrame([])\n",
        "predict = model.predict_generator(test)\n",
        "predict_frame['category'] = np.argmax(predict, axis=-1)\n",
        "labels = dict((v,k) for k,v in val.class_indices.items())\n",
        "predict_frame['category'] = predict_frame['category'].replace(labels)\n",
        "print(classification_report(y_test, predict_frame['category']))"
      ],
      "execution_count": 52,
      "outputs": [
        {
          "output_type": "stream",
          "text": [
            "/usr/local/lib/python3.6/dist-packages/PIL/Image.py:932: UserWarning: Palette images with Transparency expressed in bytes should be converted to RGBA images\n",
            "  \"Palette images with Transparency expressed in bytes should be \"\n"
          ],
          "name": "stderr"
        },
        {
          "output_type": "stream",
          "text": [
            "              precision    recall  f1-score   support\n",
            "\n",
            "       Grass       0.89      0.47      0.62        17\n",
            "       Water       0.73      0.96      0.83        25\n",
            "\n",
            "    accuracy                           0.76        42\n",
            "   macro avg       0.81      0.72      0.72        42\n",
            "weighted avg       0.79      0.76      0.74        42\n",
            "\n"
          ],
          "name": "stdout"
        }
      ]
    },
    {
      "cell_type": "markdown",
      "metadata": {
        "id": "UWKk4PsqYl-A",
        "colab_type": "text"
      },
      "source": [
        "It was a cheap shot but was worth it.This notebook needs more work."
      ]
    }
  ]
}